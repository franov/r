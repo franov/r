{
  "nbformat": 4,
  "nbformat_minor": 0,
  "metadata": {
    "colab": {
      "provenance": [],
      "authorship_tag": "ABX9TyPmSfgBJsdCWLaKwg66IcYp",
      "include_colab_link": true
    },
    "kernelspec": {
      "name": "ir",
      "display_name": "R"
    },
    "language_info": {
      "name": "R"
    }
  },
  "cells": [
    {
      "cell_type": "markdown",
      "metadata": {
        "id": "view-in-github",
        "colab_type": "text"
      },
      "source": [
        "<a href=\"https://colab.research.google.com/github/franov/r/blob/main/NPS_e1.ipynb\" target=\"_parent\"><img src=\"https://colab.research.google.com/assets/colab-badge.svg\" alt=\"Open In Colab\"/></a>"
      ]
    },
    {
      "cell_type": "markdown",
      "source": [
        "# Ejercicio Práctico Net Promoter Score (NPS)"
      ],
      "metadata": {
        "id": "wRcLdLftineX"
      }
    },
    {
      "cell_type": "markdown",
      "source": [
        "## Preparación de datos"
      ],
      "metadata": {
        "id": "DZLuQDjhmGPL"
      }
    },
    {
      "cell_type": "markdown",
      "source": [
        "### Instalación de dependencia de paquetes y carga de librerías"
      ],
      "metadata": {
        "id": "yA8VIWUiinN-"
      }
    },
    {
      "cell_type": "code",
      "execution_count": 1,
      "metadata": {
        "colab": {
          "base_uri": "https://localhost:8080/"
        },
        "id": "5PkzYI9wiM1v",
        "outputId": "e5176879-0d88-46dc-dda1-e69948cfc6a5"
      },
      "outputs": [
        {
          "output_type": "stream",
          "name": "stderr",
          "text": [
            "Downloading GitHub repo brendan-r/NPS@HEAD\n",
            "\n"
          ]
        },
        {
          "output_type": "stream",
          "name": "stdout",
          "text": [
            "\u001b[36m──\u001b[39m \u001b[36mR CMD build\u001b[39m \u001b[36m─────────────────────────────────────────────────────────────────\u001b[39m\n",
            "* checking for file ‘/tmp/RtmpJj3Bgs/remotes1767d9b7747/brendan-r-NPS-cd9473e/DESCRIPTION’ ... OK\n",
            "* preparing ‘NPS’:\n",
            "* checking DESCRIPTION meta-information ... OK\n",
            "* checking for LF line-endings in source and make files and shell scripts\n",
            "* checking for empty or unneeded directories\n",
            "* looking to see if a ‘data/datalist’ file should be added\n",
            "* building ‘NPS_2.0.999.tar.gz’\n",
            "\n"
          ]
        },
        {
          "output_type": "stream",
          "name": "stderr",
          "text": [
            "Installing package into ‘/usr/local/lib/R/site-library’\n",
            "(as ‘lib’ is unspecified)\n",
            "\n",
            "Installing package into ‘/usr/local/lib/R/site-library’\n",
            "(as ‘lib’ is unspecified)\n",
            "\n",
            "Installing package into ‘/usr/local/lib/R/site-library’\n",
            "(as ‘lib’ is unspecified)\n",
            "\n",
            "also installing the dependency ‘stringr’\n",
            "\n",
            "\n",
            "Installing package into ‘/usr/local/lib/R/site-library’\n",
            "(as ‘lib’ is unspecified)\n",
            "\n",
            "also installing the dependency ‘snakecase’\n",
            "\n",
            "\n"
          ]
        }
      ],
      "source": [
        "# Instalación de paquetes\n",
        "devtools::install_github(\"brendan-r/NPS\") # install.packages(\"NPS\")\n",
        "install.packages(\"ggplot2\")\n",
        "install.packages(\"tidyr\")\n",
        "install.packages(\"janitor\")"
      ]
    },
    {
      "cell_type": "code",
      "source": [
        "# Carga de librerías\n",
        "library(NPS)\n",
        "library(ggplot2)\n",
        "library(tidyr)\n",
        "library(janitor)"
      ],
      "metadata": {
        "colab": {
          "base_uri": "https://localhost:8080/"
        },
        "id": "BR3o9aHsjVHx",
        "outputId": "0f897ef3-4cc1-4c8a-b79b-a9497c563f8a"
      },
      "execution_count": 2,
      "outputs": [
        {
          "output_type": "stream",
          "name": "stderr",
          "text": [
            "Welcome to NPS 2.0.999!\n",
            "Bug reports: https://github.com/brendan-r/NPS/issues\n",
            "\n",
            "'Breaking' API changes since version 1.x: See ?npsv2 for a summary.\n",
            "\n",
            "Warning message in system(\"timedatectl\", intern = TRUE):\n",
            "“running command 'timedatectl' had status 1”\n",
            "\n",
            "Attaching package: ‘janitor’\n",
            "\n",
            "\n",
            "The following objects are masked from ‘package:stats’:\n",
            "\n",
            "    chisq.test, fisher.test\n",
            "\n",
            "\n"
          ]
        }
      ]
    },
    {
      "cell_type": "markdown",
      "source": [
        "### Carga y limpieza de datos"
      ],
      "metadata": {
        "id": "KR66__Yuk72U"
      }
    },
    {
      "cell_type": "code",
      "source": [
        "# Importamos los datos desde el archivo plano CSV (2579 registros)\n",
        "datos <- read.csv(\"nps.csv\")\n",
        "datos"
      ],
      "metadata": {
        "colab": {
          "base_uri": "https://localhost:8080/",
          "height": 1000
        },
        "id": "0AkevlCZlJiC",
        "outputId": "9ee10d05-9186-447a-da02-7fecc824165c"
      },
      "execution_count": 3,
      "outputs": [
        {
          "output_type": "display_data",
          "data": {
            "text/html": [
              "<table class=\"dataframe\">\n",
              "<caption>A data.frame: 2579 × 15</caption>\n",
              "<thead>\n",
              "\t<tr><th scope=col>X</th><th scope=col>Response.ID</th><th scope=col>Response.Status</th><th scope=col>TotalAmount</th><th scope=col>AmountPerGift</th><th scope=col>PledgeFrequency</th><th scope=col>SourceType</th><th scope=col>PlgUserGroup</th><th scope=col>How.long.Listening</th><th scope=col>Age</th><th scope=col>Gender</th><th scope=col>How.long.Listening.Code</th><th scope=col>Age.Code</th><th scope=col>NPS.Score</th><th scope=col>Monthly.Equiv</th></tr>\n",
              "\t<tr><th scope=col>&lt;int&gt;</th><th scope=col>&lt;int&gt;</th><th scope=col>&lt;chr&gt;</th><th scope=col>&lt;dbl&gt;</th><th scope=col>&lt;dbl&gt;</th><th scope=col>&lt;chr&gt;</th><th scope=col>&lt;chr&gt;</th><th scope=col>&lt;chr&gt;</th><th scope=col>&lt;chr&gt;</th><th scope=col>&lt;chr&gt;</th><th scope=col>&lt;chr&gt;</th><th scope=col>&lt;int&gt;</th><th scope=col>&lt;int&gt;</th><th scope=col>&lt;int&gt;</th><th scope=col>&lt;dbl&gt;</th></tr>\n",
              "</thead>\n",
              "<tbody>\n",
              "\t<tr><td> 0</td><td>11706300</td><td>Complete  </td><td> 20</td><td> 20</td><td>O</td><td>Phone</td><td>INFOCISION</td><td>Less than 6 months           </td><td>25-34</td><td>Female</td><td>1</td><td>3</td><td>10</td><td> 1.6666667</td></tr>\n",
              "\t<tr><td> 1</td><td>11706302</td><td>Complete  </td><td>600</td><td> 50</td><td>M</td><td>Phone</td><td>INFOCISION</td><td>1 year to less than 3 years  </td><td>25-34</td><td>Female</td><td>3</td><td>3</td><td>10</td><td>50.0000000</td></tr>\n",
              "\t<tr><td> 2</td><td>11706307</td><td>Complete  </td><td> 20</td><td> 20</td><td>O</td><td>Phone</td><td>INFOCISION</td><td>6 months to less than a year </td><td>35-44</td><td>Female</td><td>2</td><td>4</td><td>10</td><td> 1.6666667</td></tr>\n",
              "\t<tr><td> 3</td><td>11706312</td><td>Complete  </td><td> 20</td><td> 20</td><td>O</td><td>Phone</td><td>INFOCISION</td><td>Less than 6 months           </td><td>35-44</td><td>Female</td><td>1</td><td>4</td><td>10</td><td> 1.6666667</td></tr>\n",
              "\t<tr><td> 4</td><td>11706316</td><td>Complete  </td><td> 40</td><td> 40</td><td>O</td><td>Phone</td><td>INFOCISION</td><td>6 months to less than a year </td><td>25-34</td><td>Male  </td><td>2</td><td>3</td><td>10</td><td> 3.3333333</td></tr>\n",
              "\t<tr><td> 5</td><td>11706318</td><td>Complete  </td><td> 10</td><td> 10</td><td>O</td><td>Web  </td><td>WEB       </td><td>5 years to less than 10 years</td><td>35-44</td><td>Female</td><td>5</td><td>4</td><td>10</td><td> 0.8333333</td></tr>\n",
              "\t<tr><td> 6</td><td>11706335</td><td>Complete  </td><td>240</td><td> 20</td><td>M</td><td>Phone</td><td>STAFF     </td><td>3 years to less than 5 years </td><td>25-34</td><td>Female</td><td>4</td><td>3</td><td> 8</td><td>20.0000000</td></tr>\n",
              "\t<tr><td> 7</td><td>11706368</td><td>Complete  </td><td>120</td><td> 10</td><td>M</td><td>Phone</td><td>INFOCISION</td><td>6 months to less than a year </td><td>18-24</td><td>Female</td><td>2</td><td>2</td><td>10</td><td>10.0000000</td></tr>\n",
              "\t<tr><td> 8</td><td>11706376</td><td>Complete  </td><td> 60</td><td> 60</td><td>O</td><td>Web  </td><td>WEB       </td><td>3 years to less than 5 years </td><td>45-54</td><td>Male  </td><td>4</td><td>5</td><td> 9</td><td> 5.0000000</td></tr>\n",
              "\t<tr><td> 9</td><td>11706396</td><td>Complete  </td><td>240</td><td> 20</td><td>M</td><td>Phone</td><td>INFOCISION</td><td>1 year to less than 3 years  </td><td>45-54</td><td>Male  </td><td>3</td><td>5</td><td>10</td><td>20.0000000</td></tr>\n",
              "\t<tr><td>10</td><td>11706402</td><td>Complete  </td><td>240</td><td> 20</td><td>M</td><td>Web  </td><td>WEB       </td><td>1 year to less than 3 years  </td><td>35-44</td><td>Male  </td><td>3</td><td>4</td><td>10</td><td>20.0000000</td></tr>\n",
              "\t<tr><td>11</td><td>11706403</td><td>Complete  </td><td>240</td><td> 20</td><td>M</td><td>Phone</td><td>INFOCISION</td><td>5 years to less than 10 years</td><td>25-34</td><td>Female</td><td>5</td><td>3</td><td>10</td><td>20.0000000</td></tr>\n",
              "\t<tr><td>12</td><td>11706413</td><td>Complete  </td><td>240</td><td> 20</td><td>M</td><td>Phone</td><td>INFOCISION</td><td>More than 15 years           </td><td>55-64</td><td>Male  </td><td>7</td><td>6</td><td>10</td><td>20.0000000</td></tr>\n",
              "\t<tr><td>13</td><td>11706427</td><td>Complete  </td><td>600</td><td> 50</td><td>M</td><td>Phone</td><td>STAFF     </td><td>1 year to less than 3 years  </td><td>18-24</td><td>Female</td><td>3</td><td>2</td><td>10</td><td>50.0000000</td></tr>\n",
              "\t<tr><td>14</td><td>11706445</td><td>Complete  </td><td>240</td><td> 20</td><td>M</td><td>Web  </td><td>WEB       </td><td>6 months to less than a year </td><td>25-34</td><td>Male  </td><td>2</td><td>3</td><td>10</td><td>20.0000000</td></tr>\n",
              "\t<tr><td>15</td><td>11706452</td><td>Complete  </td><td>480</td><td> 40</td><td>M</td><td>Web  </td><td>WEB       </td><td>1 year to less than 3 years  </td><td>45-54</td><td>Female</td><td>3</td><td>5</td><td>10</td><td>40.0000000</td></tr>\n",
              "\t<tr><td>16</td><td>11706453</td><td>Complete  </td><td>120</td><td> 10</td><td>M</td><td>Web  </td><td>WEB       </td><td>1 year to less than 3 years  </td><td>35-44</td><td>Female</td><td>3</td><td>4</td><td>10</td><td>10.0000000</td></tr>\n",
              "\t<tr><td>17</td><td>11706467</td><td>Incomplete</td><td>240</td><td> 20</td><td>M</td><td>Phone</td><td>INFOCISION</td><td>Less than 6 months           </td><td>18-24</td><td>NA    </td><td>1</td><td>2</td><td>-1</td><td>20.0000000</td></tr>\n",
              "\t<tr><td>18</td><td>11706530</td><td>Complete  </td><td>300</td><td> 25</td><td>M</td><td>Phone</td><td>STAFF     </td><td>1 year to less than 3 years  </td><td>55-64</td><td>Female</td><td>3</td><td>6</td><td>10</td><td>25.0000000</td></tr>\n",
              "\t<tr><td>19</td><td>11706532</td><td>Complete  </td><td>120</td><td> 10</td><td>M</td><td>Phone</td><td>INFOCISION</td><td>Less than 6 months           </td><td>18-24</td><td>Male  </td><td>1</td><td>2</td><td> 9</td><td>10.0000000</td></tr>\n",
              "\t<tr><td>20</td><td>11706559</td><td>Complete  </td><td>600</td><td> 50</td><td>M</td><td>Web  </td><td>WEB       </td><td>Less than 6 months           </td><td>45-54</td><td>Male  </td><td>1</td><td>5</td><td>10</td><td>50.0000000</td></tr>\n",
              "\t<tr><td>21</td><td>11706600</td><td>Complete  </td><td>500</td><td>500</td><td>O</td><td>Phone</td><td>INFOCISION</td><td>5 years to less than 10 years</td><td>45-54</td><td>Male  </td><td>5</td><td>5</td><td>10</td><td>41.6666667</td></tr>\n",
              "\t<tr><td>22</td><td>11706634</td><td>Complete  </td><td> 20</td><td> 20</td><td>O</td><td>Phone</td><td>INFOCISION</td><td>Less than 6 months           </td><td>25-34</td><td>Female</td><td>1</td><td>3</td><td>10</td><td> 1.6666667</td></tr>\n",
              "\t<tr><td>23</td><td>11706636</td><td>Complete  </td><td>240</td><td> 20</td><td>M</td><td>Web  </td><td>WEB       </td><td>1 year to less than 3 years  </td><td>45-54</td><td>Female</td><td>3</td><td>5</td><td>10</td><td>20.0000000</td></tr>\n",
              "\t<tr><td>24</td><td>11706658</td><td>Complete  </td><td> 10</td><td> 10</td><td>O</td><td>Web  </td><td>WEB       </td><td>6 months to less than a year </td><td>25-34</td><td>Female</td><td>2</td><td>3</td><td>10</td><td> 0.8333333</td></tr>\n",
              "\t<tr><td>25</td><td>11706667</td><td>Complete  </td><td>300</td><td> 25</td><td>M</td><td>Phone</td><td>INFOCISION</td><td>5 years to less than 10 years</td><td>25-34</td><td>Female</td><td>5</td><td>3</td><td>10</td><td>25.0000000</td></tr>\n",
              "\t<tr><td>26</td><td>11706686</td><td>Complete  </td><td>480</td><td> 40</td><td>M</td><td>Phone</td><td>STAFF     </td><td>1 year to less than 3 years  </td><td>35-44</td><td>Male  </td><td>3</td><td>4</td><td>10</td><td>40.0000000</td></tr>\n",
              "\t<tr><td>27</td><td>11706718</td><td>Complete  </td><td>240</td><td> 20</td><td>M</td><td>Phone</td><td>INFOCISION</td><td>5 years to less than 10 years</td><td>65-74</td><td>Female</td><td>5</td><td>7</td><td> 9</td><td>20.0000000</td></tr>\n",
              "\t<tr><td>28</td><td>11706752</td><td>Complete  </td><td>100</td><td>100</td><td>O</td><td>Web  </td><td>WEB       </td><td>1 year to less than 3 years  </td><td>25-34</td><td>Female</td><td>3</td><td>3</td><td>10</td><td> 8.3333333</td></tr>\n",
              "\t<tr><td>29</td><td>11706780</td><td>Complete  </td><td>300</td><td> 25</td><td>M</td><td>Phone</td><td>STAFF     </td><td>3 years to less than 5 years </td><td>25-34</td><td>Female</td><td>4</td><td>3</td><td>10</td><td>25.0000000</td></tr>\n",
              "\t<tr><td>⋮</td><td>⋮</td><td>⋮</td><td>⋮</td><td>⋮</td><td>⋮</td><td>⋮</td><td>⋮</td><td>⋮</td><td>⋮</td><td>⋮</td><td>⋮</td><td>⋮</td><td>⋮</td><td>⋮</td></tr>\n",
              "\t<tr><td>2549</td><td>13159225</td><td>Complete  </td><td> 120</td><td> 10</td><td>M</td><td>Web  </td><td>WEB       </td><td>1 year to less than 3 years   </td><td>25-34</td><td>Female</td><td>3</td><td>3</td><td>10</td><td> 10.0000000</td></tr>\n",
              "\t<tr><td>2550</td><td>13162563</td><td>Complete  </td><td>  20</td><td> 20</td><td>O</td><td>Phone</td><td>STAFF     </td><td>1 year to less than 3 years   </td><td>25-34</td><td>Male  </td><td>3</td><td>3</td><td>10</td><td>  1.6666667</td></tr>\n",
              "\t<tr><td>2551</td><td>13165081</td><td>Complete  </td><td>1200</td><td>100</td><td>M</td><td>Phone</td><td>INFOCISION</td><td>10 years to less than 15 years</td><td>55-64</td><td>Male  </td><td>6</td><td>6</td><td>10</td><td>100.0000000</td></tr>\n",
              "\t<tr><td>2552</td><td>13165885</td><td>Complete  </td><td> 100</td><td>100</td><td>O</td><td>Phone</td><td>INFOCISION</td><td>5 years to less than 10 years </td><td>45-54</td><td>Female</td><td>5</td><td>5</td><td> 9</td><td>  8.3333333</td></tr>\n",
              "\t<tr><td>2553</td><td>13182585</td><td>Complete  </td><td>  60</td><td>  5</td><td>M</td><td>Phone</td><td>STAFF     </td><td>3 years to less than 5 years  </td><td>25-34</td><td>Female</td><td>4</td><td>3</td><td> 9</td><td>  5.0000000</td></tr>\n",
              "\t<tr><td>2554</td><td>13246968</td><td>Complete  </td><td> 120</td><td> 10</td><td>M</td><td>Phone</td><td>INFOCISION</td><td>5 years to less than 10 years </td><td>25-34</td><td>Female</td><td>5</td><td>3</td><td>10</td><td> 10.0000000</td></tr>\n",
              "\t<tr><td>2555</td><td>13250065</td><td>Complete  </td><td>  15</td><td> 15</td><td>O</td><td>Phone</td><td>STAFF     </td><td>1 year to less than 3 years   </td><td>18-24</td><td>Female</td><td>3</td><td>2</td><td>10</td><td>  1.2500000</td></tr>\n",
              "\t<tr><td>2556</td><td>13278063</td><td>Incomplete</td><td> 120</td><td> 10</td><td>M</td><td>Web  </td><td>WEB       </td><td>3 years to less than 5 years  </td><td>18-24</td><td>NA    </td><td>4</td><td>2</td><td>-1</td><td> 10.0000000</td></tr>\n",
              "\t<tr><td>2557</td><td>13281155</td><td>Complete  </td><td> 600</td><td> 50</td><td>M</td><td>Web  </td><td>WEB       </td><td>1 year to less than 3 years   </td><td>25-34</td><td>Male  </td><td>3</td><td>3</td><td>10</td><td> 50.0000000</td></tr>\n",
              "\t<tr><td>2558</td><td>13282585</td><td>Complete  </td><td> 480</td><td> 40</td><td>M</td><td>Phone</td><td>STAFF     </td><td>1 year to less than 3 years   </td><td>45-54</td><td>Female</td><td>3</td><td>5</td><td>10</td><td> 40.0000000</td></tr>\n",
              "\t<tr><td>2559</td><td>13287699</td><td>Complete  </td><td> 480</td><td> 40</td><td>M</td><td>Web  </td><td>WEB       </td><td>1 year to less than 3 years   </td><td>35-44</td><td>Female</td><td>3</td><td>4</td><td>10</td><td> 40.0000000</td></tr>\n",
              "\t<tr><td>2560</td><td>13317194</td><td>Complete  </td><td> 120</td><td> 10</td><td>M</td><td>Web  </td><td>WEB       </td><td>1 year to less than 3 years   </td><td>35-44</td><td>Female</td><td>3</td><td>4</td><td>10</td><td> 10.0000000</td></tr>\n",
              "\t<tr><td>2561</td><td>13331680</td><td>Complete  </td><td> 480</td><td> 40</td><td>M</td><td>Phone</td><td>STAFF     </td><td>10 years to less than 15 years</td><td>35-44</td><td>Female</td><td>6</td><td>4</td><td>10</td><td> 40.0000000</td></tr>\n",
              "\t<tr><td>2562</td><td>13338484</td><td>Complete  </td><td> 240</td><td> 20</td><td>M</td><td>Web  </td><td>WEB       </td><td>1 year to less than 3 years   </td><td>25-34</td><td>Female</td><td>3</td><td>3</td><td>10</td><td> 20.0000000</td></tr>\n",
              "\t<tr><td>2563</td><td>13340991</td><td>Complete  </td><td> 480</td><td> 40</td><td>M</td><td>Phone</td><td>INFOCISION</td><td>3 years to less than 5 years  </td><td>25-34</td><td>Female</td><td>4</td><td>3</td><td>10</td><td> 40.0000000</td></tr>\n",
              "\t<tr><td>2564</td><td>13358592</td><td>Complete  </td><td> 120</td><td> 10</td><td>M</td><td>Phone</td><td>INFOCISION</td><td>Less than 6 months            </td><td>45-54</td><td>Female</td><td>1</td><td>5</td><td>10</td><td> 10.0000000</td></tr>\n",
              "\t<tr><td>2565</td><td>13360252</td><td>Complete  </td><td> 300</td><td> 25</td><td>M</td><td>Phone</td><td>STAFF     </td><td>1 year to less than 3 years   </td><td>55-64</td><td>Female</td><td>3</td><td>6</td><td>10</td><td> 25.0000000</td></tr>\n",
              "\t<tr><td>2566</td><td>13394941</td><td>Complete  </td><td> 480</td><td> 40</td><td>M</td><td>Web  </td><td>WEB       </td><td>1 year to less than 3 years   </td><td>35-44</td><td>Male  </td><td>3</td><td>4</td><td>10</td><td> 40.0000000</td></tr>\n",
              "\t<tr><td>2567</td><td>13444055</td><td>Complete  </td><td> 480</td><td> 40</td><td>M</td><td>Phone</td><td>INFOCISION</td><td>1 year to less than 3 years   </td><td>25-34</td><td>Female</td><td>3</td><td>3</td><td>10</td><td> 40.0000000</td></tr>\n",
              "\t<tr><td>2568</td><td>13495367</td><td>Complete  </td><td> 480</td><td> 40</td><td>M</td><td>Phone</td><td>INFOCISION</td><td>Less than 6 months            </td><td>35-44</td><td>Female</td><td>1</td><td>4</td><td>10</td><td> 40.0000000</td></tr>\n",
              "\t<tr><td>2569</td><td>13507032</td><td>Complete  </td><td> 480</td><td> 40</td><td>M</td><td>Phone</td><td>STAFF     </td><td>1 year to less than 3 years   </td><td>35-44</td><td>Male  </td><td>3</td><td>4</td><td> 9</td><td> 40.0000000</td></tr>\n",
              "\t<tr><td>2570</td><td>13565327</td><td>Complete  </td><td>  60</td><td>  5</td><td>M</td><td>Phone</td><td>STAFF     </td><td>1 year to less than 3 years   </td><td>45-54</td><td>Female</td><td>3</td><td>5</td><td>-1</td><td>  5.0000000</td></tr>\n",
              "\t<tr><td>2571</td><td>13589706</td><td>Complete  </td><td> 120</td><td> 10</td><td>M</td><td>Phone</td><td>STAFF     </td><td>1 year to less than 3 years   </td><td>25-34</td><td>Female</td><td>3</td><td>3</td><td>10</td><td> 10.0000000</td></tr>\n",
              "\t<tr><td>2572</td><td>13601847</td><td>Incomplete</td><td> 480</td><td> 40</td><td>M</td><td>Phone</td><td>INFOCISION</td><td>3 years to less than 5 years  </td><td>25-34</td><td>NA    </td><td>4</td><td>3</td><td>-1</td><td> 40.0000000</td></tr>\n",
              "\t<tr><td>2573</td><td>13610170</td><td>Complete  </td><td> 120</td><td> 10</td><td>M</td><td>Phone</td><td>INFOCISION</td><td>6 months to less than a year  </td><td>25-34</td><td>Female</td><td>2</td><td>3</td><td>10</td><td> 10.0000000</td></tr>\n",
              "\t<tr><td>2574</td><td>13640772</td><td>Complete  </td><td> 120</td><td> 10</td><td>M</td><td>Phone</td><td>INFOCISION</td><td>3 years to less than 5 years  </td><td>18-24</td><td>Female</td><td>4</td><td>2</td><td>10</td><td> 10.0000000</td></tr>\n",
              "\t<tr><td>2575</td><td>13652344</td><td>Incomplete</td><td>   2</td><td>  2</td><td>O</td><td>Phone</td><td>INFOCISION</td><td>1 year to less than 3 years   </td><td>35-44</td><td>NA    </td><td>3</td><td>4</td><td>-1</td><td>  0.1666667</td></tr>\n",
              "\t<tr><td>2576</td><td>13732056</td><td>Complete  </td><td> 120</td><td> 10</td><td>M</td><td>Phone</td><td>STAFF     </td><td>1 year to less than 3 years   </td><td>18-24</td><td>Female</td><td>3</td><td>2</td><td>10</td><td> 10.0000000</td></tr>\n",
              "\t<tr><td>2577</td><td>13734055</td><td>Complete  </td><td> 480</td><td> 40</td><td>M</td><td>Web  </td><td>WEB       </td><td>Less than 6 months            </td><td>25-34</td><td>Male  </td><td>1</td><td>3</td><td>10</td><td> 40.0000000</td></tr>\n",
              "\t<tr><td>2578</td><td>13777359</td><td>Complete  </td><td> 120</td><td> 10</td><td>M</td><td>Web  </td><td>WEB       </td><td>3 years to less than 5 years  </td><td>35-44</td><td>Male  </td><td>4</td><td>4</td><td>10</td><td> 10.0000000</td></tr>\n",
              "</tbody>\n",
              "</table>\n"
            ],
            "text/markdown": "\nA data.frame: 2579 × 15\n\n| X &lt;int&gt; | Response.ID &lt;int&gt; | Response.Status &lt;chr&gt; | TotalAmount &lt;dbl&gt; | AmountPerGift &lt;dbl&gt; | PledgeFrequency &lt;chr&gt; | SourceType &lt;chr&gt; | PlgUserGroup &lt;chr&gt; | How.long.Listening &lt;chr&gt; | Age &lt;chr&gt; | Gender &lt;chr&gt; | How.long.Listening.Code &lt;int&gt; | Age.Code &lt;int&gt; | NPS.Score &lt;int&gt; | Monthly.Equiv &lt;dbl&gt; |\n|---|---|---|---|---|---|---|---|---|---|---|---|---|---|---|\n|  0 | 11706300 | Complete   |  20 |  20 | O | Phone | INFOCISION | Less than 6 months            | 25-34 | Female | 1 | 3 | 10 |  1.6666667 |\n|  1 | 11706302 | Complete   | 600 |  50 | M | Phone | INFOCISION | 1 year to less than 3 years   | 25-34 | Female | 3 | 3 | 10 | 50.0000000 |\n|  2 | 11706307 | Complete   |  20 |  20 | O | Phone | INFOCISION | 6 months to less than a year  | 35-44 | Female | 2 | 4 | 10 |  1.6666667 |\n|  3 | 11706312 | Complete   |  20 |  20 | O | Phone | INFOCISION | Less than 6 months            | 35-44 | Female | 1 | 4 | 10 |  1.6666667 |\n|  4 | 11706316 | Complete   |  40 |  40 | O | Phone | INFOCISION | 6 months to less than a year  | 25-34 | Male   | 2 | 3 | 10 |  3.3333333 |\n|  5 | 11706318 | Complete   |  10 |  10 | O | Web   | WEB        | 5 years to less than 10 years | 35-44 | Female | 5 | 4 | 10 |  0.8333333 |\n|  6 | 11706335 | Complete   | 240 |  20 | M | Phone | STAFF      | 3 years to less than 5 years  | 25-34 | Female | 4 | 3 |  8 | 20.0000000 |\n|  7 | 11706368 | Complete   | 120 |  10 | M | Phone | INFOCISION | 6 months to less than a year  | 18-24 | Female | 2 | 2 | 10 | 10.0000000 |\n|  8 | 11706376 | Complete   |  60 |  60 | O | Web   | WEB        | 3 years to less than 5 years  | 45-54 | Male   | 4 | 5 |  9 |  5.0000000 |\n|  9 | 11706396 | Complete   | 240 |  20 | M | Phone | INFOCISION | 1 year to less than 3 years   | 45-54 | Male   | 3 | 5 | 10 | 20.0000000 |\n| 10 | 11706402 | Complete   | 240 |  20 | M | Web   | WEB        | 1 year to less than 3 years   | 35-44 | Male   | 3 | 4 | 10 | 20.0000000 |\n| 11 | 11706403 | Complete   | 240 |  20 | M | Phone | INFOCISION | 5 years to less than 10 years | 25-34 | Female | 5 | 3 | 10 | 20.0000000 |\n| 12 | 11706413 | Complete   | 240 |  20 | M | Phone | INFOCISION | More than 15 years            | 55-64 | Male   | 7 | 6 | 10 | 20.0000000 |\n| 13 | 11706427 | Complete   | 600 |  50 | M | Phone | STAFF      | 1 year to less than 3 years   | 18-24 | Female | 3 | 2 | 10 | 50.0000000 |\n| 14 | 11706445 | Complete   | 240 |  20 | M | Web   | WEB        | 6 months to less than a year  | 25-34 | Male   | 2 | 3 | 10 | 20.0000000 |\n| 15 | 11706452 | Complete   | 480 |  40 | M | Web   | WEB        | 1 year to less than 3 years   | 45-54 | Female | 3 | 5 | 10 | 40.0000000 |\n| 16 | 11706453 | Complete   | 120 |  10 | M | Web   | WEB        | 1 year to less than 3 years   | 35-44 | Female | 3 | 4 | 10 | 10.0000000 |\n| 17 | 11706467 | Incomplete | 240 |  20 | M | Phone | INFOCISION | Less than 6 months            | 18-24 | NA     | 1 | 2 | -1 | 20.0000000 |\n| 18 | 11706530 | Complete   | 300 |  25 | M | Phone | STAFF      | 1 year to less than 3 years   | 55-64 | Female | 3 | 6 | 10 | 25.0000000 |\n| 19 | 11706532 | Complete   | 120 |  10 | M | Phone | INFOCISION | Less than 6 months            | 18-24 | Male   | 1 | 2 |  9 | 10.0000000 |\n| 20 | 11706559 | Complete   | 600 |  50 | M | Web   | WEB        | Less than 6 months            | 45-54 | Male   | 1 | 5 | 10 | 50.0000000 |\n| 21 | 11706600 | Complete   | 500 | 500 | O | Phone | INFOCISION | 5 years to less than 10 years | 45-54 | Male   | 5 | 5 | 10 | 41.6666667 |\n| 22 | 11706634 | Complete   |  20 |  20 | O | Phone | INFOCISION | Less than 6 months            | 25-34 | Female | 1 | 3 | 10 |  1.6666667 |\n| 23 | 11706636 | Complete   | 240 |  20 | M | Web   | WEB        | 1 year to less than 3 years   | 45-54 | Female | 3 | 5 | 10 | 20.0000000 |\n| 24 | 11706658 | Complete   |  10 |  10 | O | Web   | WEB        | 6 months to less than a year  | 25-34 | Female | 2 | 3 | 10 |  0.8333333 |\n| 25 | 11706667 | Complete   | 300 |  25 | M | Phone | INFOCISION | 5 years to less than 10 years | 25-34 | Female | 5 | 3 | 10 | 25.0000000 |\n| 26 | 11706686 | Complete   | 480 |  40 | M | Phone | STAFF      | 1 year to less than 3 years   | 35-44 | Male   | 3 | 4 | 10 | 40.0000000 |\n| 27 | 11706718 | Complete   | 240 |  20 | M | Phone | INFOCISION | 5 years to less than 10 years | 65-74 | Female | 5 | 7 |  9 | 20.0000000 |\n| 28 | 11706752 | Complete   | 100 | 100 | O | Web   | WEB        | 1 year to less than 3 years   | 25-34 | Female | 3 | 3 | 10 |  8.3333333 |\n| 29 | 11706780 | Complete   | 300 |  25 | M | Phone | STAFF      | 3 years to less than 5 years  | 25-34 | Female | 4 | 3 | 10 | 25.0000000 |\n| ⋮ | ⋮ | ⋮ | ⋮ | ⋮ | ⋮ | ⋮ | ⋮ | ⋮ | ⋮ | ⋮ | ⋮ | ⋮ | ⋮ | ⋮ |\n| 2549 | 13159225 | Complete   |  120 |  10 | M | Web   | WEB        | 1 year to less than 3 years    | 25-34 | Female | 3 | 3 | 10 |  10.0000000 |\n| 2550 | 13162563 | Complete   |   20 |  20 | O | Phone | STAFF      | 1 year to less than 3 years    | 25-34 | Male   | 3 | 3 | 10 |   1.6666667 |\n| 2551 | 13165081 | Complete   | 1200 | 100 | M | Phone | INFOCISION | 10 years to less than 15 years | 55-64 | Male   | 6 | 6 | 10 | 100.0000000 |\n| 2552 | 13165885 | Complete   |  100 | 100 | O | Phone | INFOCISION | 5 years to less than 10 years  | 45-54 | Female | 5 | 5 |  9 |   8.3333333 |\n| 2553 | 13182585 | Complete   |   60 |   5 | M | Phone | STAFF      | 3 years to less than 5 years   | 25-34 | Female | 4 | 3 |  9 |   5.0000000 |\n| 2554 | 13246968 | Complete   |  120 |  10 | M | Phone | INFOCISION | 5 years to less than 10 years  | 25-34 | Female | 5 | 3 | 10 |  10.0000000 |\n| 2555 | 13250065 | Complete   |   15 |  15 | O | Phone | STAFF      | 1 year to less than 3 years    | 18-24 | Female | 3 | 2 | 10 |   1.2500000 |\n| 2556 | 13278063 | Incomplete |  120 |  10 | M | Web   | WEB        | 3 years to less than 5 years   | 18-24 | NA     | 4 | 2 | -1 |  10.0000000 |\n| 2557 | 13281155 | Complete   |  600 |  50 | M | Web   | WEB        | 1 year to less than 3 years    | 25-34 | Male   | 3 | 3 | 10 |  50.0000000 |\n| 2558 | 13282585 | Complete   |  480 |  40 | M | Phone | STAFF      | 1 year to less than 3 years    | 45-54 | Female | 3 | 5 | 10 |  40.0000000 |\n| 2559 | 13287699 | Complete   |  480 |  40 | M | Web   | WEB        | 1 year to less than 3 years    | 35-44 | Female | 3 | 4 | 10 |  40.0000000 |\n| 2560 | 13317194 | Complete   |  120 |  10 | M | Web   | WEB        | 1 year to less than 3 years    | 35-44 | Female | 3 | 4 | 10 |  10.0000000 |\n| 2561 | 13331680 | Complete   |  480 |  40 | M | Phone | STAFF      | 10 years to less than 15 years | 35-44 | Female | 6 | 4 | 10 |  40.0000000 |\n| 2562 | 13338484 | Complete   |  240 |  20 | M | Web   | WEB        | 1 year to less than 3 years    | 25-34 | Female | 3 | 3 | 10 |  20.0000000 |\n| 2563 | 13340991 | Complete   |  480 |  40 | M | Phone | INFOCISION | 3 years to less than 5 years   | 25-34 | Female | 4 | 3 | 10 |  40.0000000 |\n| 2564 | 13358592 | Complete   |  120 |  10 | M | Phone | INFOCISION | Less than 6 months             | 45-54 | Female | 1 | 5 | 10 |  10.0000000 |\n| 2565 | 13360252 | Complete   |  300 |  25 | M | Phone | STAFF      | 1 year to less than 3 years    | 55-64 | Female | 3 | 6 | 10 |  25.0000000 |\n| 2566 | 13394941 | Complete   |  480 |  40 | M | Web   | WEB        | 1 year to less than 3 years    | 35-44 | Male   | 3 | 4 | 10 |  40.0000000 |\n| 2567 | 13444055 | Complete   |  480 |  40 | M | Phone | INFOCISION | 1 year to less than 3 years    | 25-34 | Female | 3 | 3 | 10 |  40.0000000 |\n| 2568 | 13495367 | Complete   |  480 |  40 | M | Phone | INFOCISION | Less than 6 months             | 35-44 | Female | 1 | 4 | 10 |  40.0000000 |\n| 2569 | 13507032 | Complete   |  480 |  40 | M | Phone | STAFF      | 1 year to less than 3 years    | 35-44 | Male   | 3 | 4 |  9 |  40.0000000 |\n| 2570 | 13565327 | Complete   |   60 |   5 | M | Phone | STAFF      | 1 year to less than 3 years    | 45-54 | Female | 3 | 5 | -1 |   5.0000000 |\n| 2571 | 13589706 | Complete   |  120 |  10 | M | Phone | STAFF      | 1 year to less than 3 years    | 25-34 | Female | 3 | 3 | 10 |  10.0000000 |\n| 2572 | 13601847 | Incomplete |  480 |  40 | M | Phone | INFOCISION | 3 years to less than 5 years   | 25-34 | NA     | 4 | 3 | -1 |  40.0000000 |\n| 2573 | 13610170 | Complete   |  120 |  10 | M | Phone | INFOCISION | 6 months to less than a year   | 25-34 | Female | 2 | 3 | 10 |  10.0000000 |\n| 2574 | 13640772 | Complete   |  120 |  10 | M | Phone | INFOCISION | 3 years to less than 5 years   | 18-24 | Female | 4 | 2 | 10 |  10.0000000 |\n| 2575 | 13652344 | Incomplete |    2 |   2 | O | Phone | INFOCISION | 1 year to less than 3 years    | 35-44 | NA     | 3 | 4 | -1 |   0.1666667 |\n| 2576 | 13732056 | Complete   |  120 |  10 | M | Phone | STAFF      | 1 year to less than 3 years    | 18-24 | Female | 3 | 2 | 10 |  10.0000000 |\n| 2577 | 13734055 | Complete   |  480 |  40 | M | Web   | WEB        | Less than 6 months             | 25-34 | Male   | 1 | 3 | 10 |  40.0000000 |\n| 2578 | 13777359 | Complete   |  120 |  10 | M | Web   | WEB        | 3 years to less than 5 years   | 35-44 | Male   | 4 | 4 | 10 |  10.0000000 |\n\n",
            "text/latex": "A data.frame: 2579 × 15\n\\begin{tabular}{lllllllllllllll}\n X & Response.ID & Response.Status & TotalAmount & AmountPerGift & PledgeFrequency & SourceType & PlgUserGroup & How.long.Listening & Age & Gender & How.long.Listening.Code & Age.Code & NPS.Score & Monthly.Equiv\\\\\n <int> & <int> & <chr> & <dbl> & <dbl> & <chr> & <chr> & <chr> & <chr> & <chr> & <chr> & <int> & <int> & <int> & <dbl>\\\\\n\\hline\n\t  0 & 11706300 & Complete   &  20 &  20 & O & Phone & INFOCISION & Less than 6 months            & 25-34 & Female & 1 & 3 & 10 &  1.6666667\\\\\n\t  1 & 11706302 & Complete   & 600 &  50 & M & Phone & INFOCISION & 1 year to less than 3 years   & 25-34 & Female & 3 & 3 & 10 & 50.0000000\\\\\n\t  2 & 11706307 & Complete   &  20 &  20 & O & Phone & INFOCISION & 6 months to less than a year  & 35-44 & Female & 2 & 4 & 10 &  1.6666667\\\\\n\t  3 & 11706312 & Complete   &  20 &  20 & O & Phone & INFOCISION & Less than 6 months            & 35-44 & Female & 1 & 4 & 10 &  1.6666667\\\\\n\t  4 & 11706316 & Complete   &  40 &  40 & O & Phone & INFOCISION & 6 months to less than a year  & 25-34 & Male   & 2 & 3 & 10 &  3.3333333\\\\\n\t  5 & 11706318 & Complete   &  10 &  10 & O & Web   & WEB        & 5 years to less than 10 years & 35-44 & Female & 5 & 4 & 10 &  0.8333333\\\\\n\t  6 & 11706335 & Complete   & 240 &  20 & M & Phone & STAFF      & 3 years to less than 5 years  & 25-34 & Female & 4 & 3 &  8 & 20.0000000\\\\\n\t  7 & 11706368 & Complete   & 120 &  10 & M & Phone & INFOCISION & 6 months to less than a year  & 18-24 & Female & 2 & 2 & 10 & 10.0000000\\\\\n\t  8 & 11706376 & Complete   &  60 &  60 & O & Web   & WEB        & 3 years to less than 5 years  & 45-54 & Male   & 4 & 5 &  9 &  5.0000000\\\\\n\t  9 & 11706396 & Complete   & 240 &  20 & M & Phone & INFOCISION & 1 year to less than 3 years   & 45-54 & Male   & 3 & 5 & 10 & 20.0000000\\\\\n\t 10 & 11706402 & Complete   & 240 &  20 & M & Web   & WEB        & 1 year to less than 3 years   & 35-44 & Male   & 3 & 4 & 10 & 20.0000000\\\\\n\t 11 & 11706403 & Complete   & 240 &  20 & M & Phone & INFOCISION & 5 years to less than 10 years & 25-34 & Female & 5 & 3 & 10 & 20.0000000\\\\\n\t 12 & 11706413 & Complete   & 240 &  20 & M & Phone & INFOCISION & More than 15 years            & 55-64 & Male   & 7 & 6 & 10 & 20.0000000\\\\\n\t 13 & 11706427 & Complete   & 600 &  50 & M & Phone & STAFF      & 1 year to less than 3 years   & 18-24 & Female & 3 & 2 & 10 & 50.0000000\\\\\n\t 14 & 11706445 & Complete   & 240 &  20 & M & Web   & WEB        & 6 months to less than a year  & 25-34 & Male   & 2 & 3 & 10 & 20.0000000\\\\\n\t 15 & 11706452 & Complete   & 480 &  40 & M & Web   & WEB        & 1 year to less than 3 years   & 45-54 & Female & 3 & 5 & 10 & 40.0000000\\\\\n\t 16 & 11706453 & Complete   & 120 &  10 & M & Web   & WEB        & 1 year to less than 3 years   & 35-44 & Female & 3 & 4 & 10 & 10.0000000\\\\\n\t 17 & 11706467 & Incomplete & 240 &  20 & M & Phone & INFOCISION & Less than 6 months            & 18-24 & NA     & 1 & 2 & -1 & 20.0000000\\\\\n\t 18 & 11706530 & Complete   & 300 &  25 & M & Phone & STAFF      & 1 year to less than 3 years   & 55-64 & Female & 3 & 6 & 10 & 25.0000000\\\\\n\t 19 & 11706532 & Complete   & 120 &  10 & M & Phone & INFOCISION & Less than 6 months            & 18-24 & Male   & 1 & 2 &  9 & 10.0000000\\\\\n\t 20 & 11706559 & Complete   & 600 &  50 & M & Web   & WEB        & Less than 6 months            & 45-54 & Male   & 1 & 5 & 10 & 50.0000000\\\\\n\t 21 & 11706600 & Complete   & 500 & 500 & O & Phone & INFOCISION & 5 years to less than 10 years & 45-54 & Male   & 5 & 5 & 10 & 41.6666667\\\\\n\t 22 & 11706634 & Complete   &  20 &  20 & O & Phone & INFOCISION & Less than 6 months            & 25-34 & Female & 1 & 3 & 10 &  1.6666667\\\\\n\t 23 & 11706636 & Complete   & 240 &  20 & M & Web   & WEB        & 1 year to less than 3 years   & 45-54 & Female & 3 & 5 & 10 & 20.0000000\\\\\n\t 24 & 11706658 & Complete   &  10 &  10 & O & Web   & WEB        & 6 months to less than a year  & 25-34 & Female & 2 & 3 & 10 &  0.8333333\\\\\n\t 25 & 11706667 & Complete   & 300 &  25 & M & Phone & INFOCISION & 5 years to less than 10 years & 25-34 & Female & 5 & 3 & 10 & 25.0000000\\\\\n\t 26 & 11706686 & Complete   & 480 &  40 & M & Phone & STAFF      & 1 year to less than 3 years   & 35-44 & Male   & 3 & 4 & 10 & 40.0000000\\\\\n\t 27 & 11706718 & Complete   & 240 &  20 & M & Phone & INFOCISION & 5 years to less than 10 years & 65-74 & Female & 5 & 7 &  9 & 20.0000000\\\\\n\t 28 & 11706752 & Complete   & 100 & 100 & O & Web   & WEB        & 1 year to less than 3 years   & 25-34 & Female & 3 & 3 & 10 &  8.3333333\\\\\n\t 29 & 11706780 & Complete   & 300 &  25 & M & Phone & STAFF      & 3 years to less than 5 years  & 25-34 & Female & 4 & 3 & 10 & 25.0000000\\\\\n\t ⋮ & ⋮ & ⋮ & ⋮ & ⋮ & ⋮ & ⋮ & ⋮ & ⋮ & ⋮ & ⋮ & ⋮ & ⋮ & ⋮ & ⋮\\\\\n\t 2549 & 13159225 & Complete   &  120 &  10 & M & Web   & WEB        & 1 year to less than 3 years    & 25-34 & Female & 3 & 3 & 10 &  10.0000000\\\\\n\t 2550 & 13162563 & Complete   &   20 &  20 & O & Phone & STAFF      & 1 year to less than 3 years    & 25-34 & Male   & 3 & 3 & 10 &   1.6666667\\\\\n\t 2551 & 13165081 & Complete   & 1200 & 100 & M & Phone & INFOCISION & 10 years to less than 15 years & 55-64 & Male   & 6 & 6 & 10 & 100.0000000\\\\\n\t 2552 & 13165885 & Complete   &  100 & 100 & O & Phone & INFOCISION & 5 years to less than 10 years  & 45-54 & Female & 5 & 5 &  9 &   8.3333333\\\\\n\t 2553 & 13182585 & Complete   &   60 &   5 & M & Phone & STAFF      & 3 years to less than 5 years   & 25-34 & Female & 4 & 3 &  9 &   5.0000000\\\\\n\t 2554 & 13246968 & Complete   &  120 &  10 & M & Phone & INFOCISION & 5 years to less than 10 years  & 25-34 & Female & 5 & 3 & 10 &  10.0000000\\\\\n\t 2555 & 13250065 & Complete   &   15 &  15 & O & Phone & STAFF      & 1 year to less than 3 years    & 18-24 & Female & 3 & 2 & 10 &   1.2500000\\\\\n\t 2556 & 13278063 & Incomplete &  120 &  10 & M & Web   & WEB        & 3 years to less than 5 years   & 18-24 & NA     & 4 & 2 & -1 &  10.0000000\\\\\n\t 2557 & 13281155 & Complete   &  600 &  50 & M & Web   & WEB        & 1 year to less than 3 years    & 25-34 & Male   & 3 & 3 & 10 &  50.0000000\\\\\n\t 2558 & 13282585 & Complete   &  480 &  40 & M & Phone & STAFF      & 1 year to less than 3 years    & 45-54 & Female & 3 & 5 & 10 &  40.0000000\\\\\n\t 2559 & 13287699 & Complete   &  480 &  40 & M & Web   & WEB        & 1 year to less than 3 years    & 35-44 & Female & 3 & 4 & 10 &  40.0000000\\\\\n\t 2560 & 13317194 & Complete   &  120 &  10 & M & Web   & WEB        & 1 year to less than 3 years    & 35-44 & Female & 3 & 4 & 10 &  10.0000000\\\\\n\t 2561 & 13331680 & Complete   &  480 &  40 & M & Phone & STAFF      & 10 years to less than 15 years & 35-44 & Female & 6 & 4 & 10 &  40.0000000\\\\\n\t 2562 & 13338484 & Complete   &  240 &  20 & M & Web   & WEB        & 1 year to less than 3 years    & 25-34 & Female & 3 & 3 & 10 &  20.0000000\\\\\n\t 2563 & 13340991 & Complete   &  480 &  40 & M & Phone & INFOCISION & 3 years to less than 5 years   & 25-34 & Female & 4 & 3 & 10 &  40.0000000\\\\\n\t 2564 & 13358592 & Complete   &  120 &  10 & M & Phone & INFOCISION & Less than 6 months             & 45-54 & Female & 1 & 5 & 10 &  10.0000000\\\\\n\t 2565 & 13360252 & Complete   &  300 &  25 & M & Phone & STAFF      & 1 year to less than 3 years    & 55-64 & Female & 3 & 6 & 10 &  25.0000000\\\\\n\t 2566 & 13394941 & Complete   &  480 &  40 & M & Web   & WEB        & 1 year to less than 3 years    & 35-44 & Male   & 3 & 4 & 10 &  40.0000000\\\\\n\t 2567 & 13444055 & Complete   &  480 &  40 & M & Phone & INFOCISION & 1 year to less than 3 years    & 25-34 & Female & 3 & 3 & 10 &  40.0000000\\\\\n\t 2568 & 13495367 & Complete   &  480 &  40 & M & Phone & INFOCISION & Less than 6 months             & 35-44 & Female & 1 & 4 & 10 &  40.0000000\\\\\n\t 2569 & 13507032 & Complete   &  480 &  40 & M & Phone & STAFF      & 1 year to less than 3 years    & 35-44 & Male   & 3 & 4 &  9 &  40.0000000\\\\\n\t 2570 & 13565327 & Complete   &   60 &   5 & M & Phone & STAFF      & 1 year to less than 3 years    & 45-54 & Female & 3 & 5 & -1 &   5.0000000\\\\\n\t 2571 & 13589706 & Complete   &  120 &  10 & M & Phone & STAFF      & 1 year to less than 3 years    & 25-34 & Female & 3 & 3 & 10 &  10.0000000\\\\\n\t 2572 & 13601847 & Incomplete &  480 &  40 & M & Phone & INFOCISION & 3 years to less than 5 years   & 25-34 & NA     & 4 & 3 & -1 &  40.0000000\\\\\n\t 2573 & 13610170 & Complete   &  120 &  10 & M & Phone & INFOCISION & 6 months to less than a year   & 25-34 & Female & 2 & 3 & 10 &  10.0000000\\\\\n\t 2574 & 13640772 & Complete   &  120 &  10 & M & Phone & INFOCISION & 3 years to less than 5 years   & 18-24 & Female & 4 & 2 & 10 &  10.0000000\\\\\n\t 2575 & 13652344 & Incomplete &    2 &   2 & O & Phone & INFOCISION & 1 year to less than 3 years    & 35-44 & NA     & 3 & 4 & -1 &   0.1666667\\\\\n\t 2576 & 13732056 & Complete   &  120 &  10 & M & Phone & STAFF      & 1 year to less than 3 years    & 18-24 & Female & 3 & 2 & 10 &  10.0000000\\\\\n\t 2577 & 13734055 & Complete   &  480 &  40 & M & Web   & WEB        & Less than 6 months             & 25-34 & Male   & 1 & 3 & 10 &  40.0000000\\\\\n\t 2578 & 13777359 & Complete   &  120 &  10 & M & Web   & WEB        & 3 years to less than 5 years   & 35-44 & Male   & 4 & 4 & 10 &  10.0000000\\\\\n\\end{tabular}\n",
            "text/plain": [
              "     X    Response.ID Response.Status TotalAmount AmountPerGift PledgeFrequency\n",
              "1     0   11706300    Complete         20          20           O              \n",
              "2     1   11706302    Complete        600          50           M              \n",
              "3     2   11706307    Complete         20          20           O              \n",
              "4     3   11706312    Complete         20          20           O              \n",
              "5     4   11706316    Complete         40          40           O              \n",
              "6     5   11706318    Complete         10          10           O              \n",
              "7     6   11706335    Complete        240          20           M              \n",
              "8     7   11706368    Complete        120          10           M              \n",
              "9     8   11706376    Complete         60          60           O              \n",
              "10    9   11706396    Complete        240          20           M              \n",
              "11   10   11706402    Complete        240          20           M              \n",
              "12   11   11706403    Complete        240          20           M              \n",
              "13   12   11706413    Complete        240          20           M              \n",
              "14   13   11706427    Complete        600          50           M              \n",
              "15   14   11706445    Complete        240          20           M              \n",
              "16   15   11706452    Complete        480          40           M              \n",
              "17   16   11706453    Complete        120          10           M              \n",
              "18   17   11706467    Incomplete      240          20           M              \n",
              "19   18   11706530    Complete        300          25           M              \n",
              "20   19   11706532    Complete        120          10           M              \n",
              "21   20   11706559    Complete        600          50           M              \n",
              "22   21   11706600    Complete        500         500           O              \n",
              "23   22   11706634    Complete         20          20           O              \n",
              "24   23   11706636    Complete        240          20           M              \n",
              "25   24   11706658    Complete         10          10           O              \n",
              "26   25   11706667    Complete        300          25           M              \n",
              "27   26   11706686    Complete        480          40           M              \n",
              "28   27   11706718    Complete        240          20           M              \n",
              "29   28   11706752    Complete        100         100           O              \n",
              "30   29   11706780    Complete        300          25           M              \n",
              "⋮    ⋮    ⋮           ⋮               ⋮           ⋮             ⋮              \n",
              "2550 2549 13159225    Complete         120         10           M              \n",
              "2551 2550 13162563    Complete          20         20           O              \n",
              "2552 2551 13165081    Complete        1200        100           M              \n",
              "2553 2552 13165885    Complete         100        100           O              \n",
              "2554 2553 13182585    Complete          60          5           M              \n",
              "2555 2554 13246968    Complete         120         10           M              \n",
              "2556 2555 13250065    Complete          15         15           O              \n",
              "2557 2556 13278063    Incomplete       120         10           M              \n",
              "2558 2557 13281155    Complete         600         50           M              \n",
              "2559 2558 13282585    Complete         480         40           M              \n",
              "2560 2559 13287699    Complete         480         40           M              \n",
              "2561 2560 13317194    Complete         120         10           M              \n",
              "2562 2561 13331680    Complete         480         40           M              \n",
              "2563 2562 13338484    Complete         240         20           M              \n",
              "2564 2563 13340991    Complete         480         40           M              \n",
              "2565 2564 13358592    Complete         120         10           M              \n",
              "2566 2565 13360252    Complete         300         25           M              \n",
              "2567 2566 13394941    Complete         480         40           M              \n",
              "2568 2567 13444055    Complete         480         40           M              \n",
              "2569 2568 13495367    Complete         480         40           M              \n",
              "2570 2569 13507032    Complete         480         40           M              \n",
              "2571 2570 13565327    Complete          60          5           M              \n",
              "2572 2571 13589706    Complete         120         10           M              \n",
              "2573 2572 13601847    Incomplete       480         40           M              \n",
              "2574 2573 13610170    Complete         120         10           M              \n",
              "2575 2574 13640772    Complete         120         10           M              \n",
              "2576 2575 13652344    Incomplete         2          2           O              \n",
              "2577 2576 13732056    Complete         120         10           M              \n",
              "2578 2577 13734055    Complete         480         40           M              \n",
              "2579 2578 13777359    Complete         120         10           M              \n",
              "     SourceType PlgUserGroup How.long.Listening             Age   Gender\n",
              "1    Phone      INFOCISION   Less than 6 months             25-34 Female\n",
              "2    Phone      INFOCISION   1 year to less than 3 years    25-34 Female\n",
              "3    Phone      INFOCISION   6 months to less than a year   35-44 Female\n",
              "4    Phone      INFOCISION   Less than 6 months             35-44 Female\n",
              "5    Phone      INFOCISION   6 months to less than a year   25-34 Male  \n",
              "6    Web        WEB          5 years to less than 10 years  35-44 Female\n",
              "7    Phone      STAFF        3 years to less than 5 years   25-34 Female\n",
              "8    Phone      INFOCISION   6 months to less than a year   18-24 Female\n",
              "9    Web        WEB          3 years to less than 5 years   45-54 Male  \n",
              "10   Phone      INFOCISION   1 year to less than 3 years    45-54 Male  \n",
              "11   Web        WEB          1 year to less than 3 years    35-44 Male  \n",
              "12   Phone      INFOCISION   5 years to less than 10 years  25-34 Female\n",
              "13   Phone      INFOCISION   More than 15 years             55-64 Male  \n",
              "14   Phone      STAFF        1 year to less than 3 years    18-24 Female\n",
              "15   Web        WEB          6 months to less than a year   25-34 Male  \n",
              "16   Web        WEB          1 year to less than 3 years    45-54 Female\n",
              "17   Web        WEB          1 year to less than 3 years    35-44 Female\n",
              "18   Phone      INFOCISION   Less than 6 months             18-24 NA    \n",
              "19   Phone      STAFF        1 year to less than 3 years    55-64 Female\n",
              "20   Phone      INFOCISION   Less than 6 months             18-24 Male  \n",
              "21   Web        WEB          Less than 6 months             45-54 Male  \n",
              "22   Phone      INFOCISION   5 years to less than 10 years  45-54 Male  \n",
              "23   Phone      INFOCISION   Less than 6 months             25-34 Female\n",
              "24   Web        WEB          1 year to less than 3 years    45-54 Female\n",
              "25   Web        WEB          6 months to less than a year   25-34 Female\n",
              "26   Phone      INFOCISION   5 years to less than 10 years  25-34 Female\n",
              "27   Phone      STAFF        1 year to less than 3 years    35-44 Male  \n",
              "28   Phone      INFOCISION   5 years to less than 10 years  65-74 Female\n",
              "29   Web        WEB          1 year to less than 3 years    25-34 Female\n",
              "30   Phone      STAFF        3 years to less than 5 years   25-34 Female\n",
              "⋮    ⋮          ⋮            ⋮                              ⋮     ⋮     \n",
              "2550 Web        WEB          1 year to less than 3 years    25-34 Female\n",
              "2551 Phone      STAFF        1 year to less than 3 years    25-34 Male  \n",
              "2552 Phone      INFOCISION   10 years to less than 15 years 55-64 Male  \n",
              "2553 Phone      INFOCISION   5 years to less than 10 years  45-54 Female\n",
              "2554 Phone      STAFF        3 years to less than 5 years   25-34 Female\n",
              "2555 Phone      INFOCISION   5 years to less than 10 years  25-34 Female\n",
              "2556 Phone      STAFF        1 year to less than 3 years    18-24 Female\n",
              "2557 Web        WEB          3 years to less than 5 years   18-24 NA    \n",
              "2558 Web        WEB          1 year to less than 3 years    25-34 Male  \n",
              "2559 Phone      STAFF        1 year to less than 3 years    45-54 Female\n",
              "2560 Web        WEB          1 year to less than 3 years    35-44 Female\n",
              "2561 Web        WEB          1 year to less than 3 years    35-44 Female\n",
              "2562 Phone      STAFF        10 years to less than 15 years 35-44 Female\n",
              "2563 Web        WEB          1 year to less than 3 years    25-34 Female\n",
              "2564 Phone      INFOCISION   3 years to less than 5 years   25-34 Female\n",
              "2565 Phone      INFOCISION   Less than 6 months             45-54 Female\n",
              "2566 Phone      STAFF        1 year to less than 3 years    55-64 Female\n",
              "2567 Web        WEB          1 year to less than 3 years    35-44 Male  \n",
              "2568 Phone      INFOCISION   1 year to less than 3 years    25-34 Female\n",
              "2569 Phone      INFOCISION   Less than 6 months             35-44 Female\n",
              "2570 Phone      STAFF        1 year to less than 3 years    35-44 Male  \n",
              "2571 Phone      STAFF        1 year to less than 3 years    45-54 Female\n",
              "2572 Phone      STAFF        1 year to less than 3 years    25-34 Female\n",
              "2573 Phone      INFOCISION   3 years to less than 5 years   25-34 NA    \n",
              "2574 Phone      INFOCISION   6 months to less than a year   25-34 Female\n",
              "2575 Phone      INFOCISION   3 years to less than 5 years   18-24 Female\n",
              "2576 Phone      INFOCISION   1 year to less than 3 years    35-44 NA    \n",
              "2577 Phone      STAFF        1 year to less than 3 years    18-24 Female\n",
              "2578 Web        WEB          Less than 6 months             25-34 Male  \n",
              "2579 Web        WEB          3 years to less than 5 years   35-44 Male  \n",
              "     How.long.Listening.Code Age.Code NPS.Score Monthly.Equiv\n",
              "1    1                       3        10         1.6666667   \n",
              "2    3                       3        10        50.0000000   \n",
              "3    2                       4        10         1.6666667   \n",
              "4    1                       4        10         1.6666667   \n",
              "5    2                       3        10         3.3333333   \n",
              "6    5                       4        10         0.8333333   \n",
              "7    4                       3         8        20.0000000   \n",
              "8    2                       2        10        10.0000000   \n",
              "9    4                       5         9         5.0000000   \n",
              "10   3                       5        10        20.0000000   \n",
              "11   3                       4        10        20.0000000   \n",
              "12   5                       3        10        20.0000000   \n",
              "13   7                       6        10        20.0000000   \n",
              "14   3                       2        10        50.0000000   \n",
              "15   2                       3        10        20.0000000   \n",
              "16   3                       5        10        40.0000000   \n",
              "17   3                       4        10        10.0000000   \n",
              "18   1                       2        -1        20.0000000   \n",
              "19   3                       6        10        25.0000000   \n",
              "20   1                       2         9        10.0000000   \n",
              "21   1                       5        10        50.0000000   \n",
              "22   5                       5        10        41.6666667   \n",
              "23   1                       3        10         1.6666667   \n",
              "24   3                       5        10        20.0000000   \n",
              "25   2                       3        10         0.8333333   \n",
              "26   5                       3        10        25.0000000   \n",
              "27   3                       4        10        40.0000000   \n",
              "28   5                       7         9        20.0000000   \n",
              "29   3                       3        10         8.3333333   \n",
              "30   4                       3        10        25.0000000   \n",
              "⋮    ⋮                       ⋮        ⋮         ⋮            \n",
              "2550 3                       3        10         10.0000000  \n",
              "2551 3                       3        10          1.6666667  \n",
              "2552 6                       6        10        100.0000000  \n",
              "2553 5                       5         9          8.3333333  \n",
              "2554 4                       3         9          5.0000000  \n",
              "2555 5                       3        10         10.0000000  \n",
              "2556 3                       2        10          1.2500000  \n",
              "2557 4                       2        -1         10.0000000  \n",
              "2558 3                       3        10         50.0000000  \n",
              "2559 3                       5        10         40.0000000  \n",
              "2560 3                       4        10         40.0000000  \n",
              "2561 3                       4        10         10.0000000  \n",
              "2562 6                       4        10         40.0000000  \n",
              "2563 3                       3        10         20.0000000  \n",
              "2564 4                       3        10         40.0000000  \n",
              "2565 1                       5        10         10.0000000  \n",
              "2566 3                       6        10         25.0000000  \n",
              "2567 3                       4        10         40.0000000  \n",
              "2568 3                       3        10         40.0000000  \n",
              "2569 1                       4        10         40.0000000  \n",
              "2570 3                       4         9         40.0000000  \n",
              "2571 3                       5        -1          5.0000000  \n",
              "2572 3                       3        10         10.0000000  \n",
              "2573 4                       3        -1         40.0000000  \n",
              "2574 2                       3        10         10.0000000  \n",
              "2575 4                       2        10         10.0000000  \n",
              "2576 3                       4        -1          0.1666667  \n",
              "2577 3                       2        10         10.0000000  \n",
              "2578 1                       3        10         40.0000000  \n",
              "2579 4                       4        10         10.0000000  "
            ]
          },
          "metadata": {}
        }
      ]
    },
    {
      "cell_type": "code",
      "source": [
        "# Ordenamos y simplificamos los nombres para que puedan ser utilizados con mayor facilidad\n",
        "datos <- clean_names(datos)"
      ],
      "metadata": {
        "id": "HY4LNo3wlv1f"
      },
      "execution_count": 4,
      "outputs": []
    },
    {
      "cell_type": "code",
      "source": [
        "datos"
      ],
      "metadata": {
        "colab": {
          "base_uri": "https://localhost:8080/",
          "height": 1000
        },
        "id": "o9xBn-AxmxBg",
        "outputId": "ac62289c-9639-45ac-e17e-fe0d81316ec8"
      },
      "execution_count": 5,
      "outputs": [
        {
          "output_type": "display_data",
          "data": {
            "text/html": [
              "<table class=\"dataframe\">\n",
              "<caption>A data.frame: 2579 × 15</caption>\n",
              "<thead>\n",
              "\t<tr><th scope=col>x</th><th scope=col>response_id</th><th scope=col>response_status</th><th scope=col>total_amount</th><th scope=col>amount_per_gift</th><th scope=col>pledge_frequency</th><th scope=col>source_type</th><th scope=col>plg_user_group</th><th scope=col>how_long_listening</th><th scope=col>age</th><th scope=col>gender</th><th scope=col>how_long_listening_code</th><th scope=col>age_code</th><th scope=col>nps_score</th><th scope=col>monthly_equiv</th></tr>\n",
              "\t<tr><th scope=col>&lt;int&gt;</th><th scope=col>&lt;int&gt;</th><th scope=col>&lt;chr&gt;</th><th scope=col>&lt;dbl&gt;</th><th scope=col>&lt;dbl&gt;</th><th scope=col>&lt;chr&gt;</th><th scope=col>&lt;chr&gt;</th><th scope=col>&lt;chr&gt;</th><th scope=col>&lt;chr&gt;</th><th scope=col>&lt;chr&gt;</th><th scope=col>&lt;chr&gt;</th><th scope=col>&lt;int&gt;</th><th scope=col>&lt;int&gt;</th><th scope=col>&lt;int&gt;</th><th scope=col>&lt;dbl&gt;</th></tr>\n",
              "</thead>\n",
              "<tbody>\n",
              "\t<tr><td> 0</td><td>11706300</td><td>Complete  </td><td> 20</td><td> 20</td><td>O</td><td>Phone</td><td>INFOCISION</td><td>Less than 6 months           </td><td>25-34</td><td>Female</td><td>1</td><td>3</td><td>10</td><td> 1.6666667</td></tr>\n",
              "\t<tr><td> 1</td><td>11706302</td><td>Complete  </td><td>600</td><td> 50</td><td>M</td><td>Phone</td><td>INFOCISION</td><td>1 year to less than 3 years  </td><td>25-34</td><td>Female</td><td>3</td><td>3</td><td>10</td><td>50.0000000</td></tr>\n",
              "\t<tr><td> 2</td><td>11706307</td><td>Complete  </td><td> 20</td><td> 20</td><td>O</td><td>Phone</td><td>INFOCISION</td><td>6 months to less than a year </td><td>35-44</td><td>Female</td><td>2</td><td>4</td><td>10</td><td> 1.6666667</td></tr>\n",
              "\t<tr><td> 3</td><td>11706312</td><td>Complete  </td><td> 20</td><td> 20</td><td>O</td><td>Phone</td><td>INFOCISION</td><td>Less than 6 months           </td><td>35-44</td><td>Female</td><td>1</td><td>4</td><td>10</td><td> 1.6666667</td></tr>\n",
              "\t<tr><td> 4</td><td>11706316</td><td>Complete  </td><td> 40</td><td> 40</td><td>O</td><td>Phone</td><td>INFOCISION</td><td>6 months to less than a year </td><td>25-34</td><td>Male  </td><td>2</td><td>3</td><td>10</td><td> 3.3333333</td></tr>\n",
              "\t<tr><td> 5</td><td>11706318</td><td>Complete  </td><td> 10</td><td> 10</td><td>O</td><td>Web  </td><td>WEB       </td><td>5 years to less than 10 years</td><td>35-44</td><td>Female</td><td>5</td><td>4</td><td>10</td><td> 0.8333333</td></tr>\n",
              "\t<tr><td> 6</td><td>11706335</td><td>Complete  </td><td>240</td><td> 20</td><td>M</td><td>Phone</td><td>STAFF     </td><td>3 years to less than 5 years </td><td>25-34</td><td>Female</td><td>4</td><td>3</td><td> 8</td><td>20.0000000</td></tr>\n",
              "\t<tr><td> 7</td><td>11706368</td><td>Complete  </td><td>120</td><td> 10</td><td>M</td><td>Phone</td><td>INFOCISION</td><td>6 months to less than a year </td><td>18-24</td><td>Female</td><td>2</td><td>2</td><td>10</td><td>10.0000000</td></tr>\n",
              "\t<tr><td> 8</td><td>11706376</td><td>Complete  </td><td> 60</td><td> 60</td><td>O</td><td>Web  </td><td>WEB       </td><td>3 years to less than 5 years </td><td>45-54</td><td>Male  </td><td>4</td><td>5</td><td> 9</td><td> 5.0000000</td></tr>\n",
              "\t<tr><td> 9</td><td>11706396</td><td>Complete  </td><td>240</td><td> 20</td><td>M</td><td>Phone</td><td>INFOCISION</td><td>1 year to less than 3 years  </td><td>45-54</td><td>Male  </td><td>3</td><td>5</td><td>10</td><td>20.0000000</td></tr>\n",
              "\t<tr><td>10</td><td>11706402</td><td>Complete  </td><td>240</td><td> 20</td><td>M</td><td>Web  </td><td>WEB       </td><td>1 year to less than 3 years  </td><td>35-44</td><td>Male  </td><td>3</td><td>4</td><td>10</td><td>20.0000000</td></tr>\n",
              "\t<tr><td>11</td><td>11706403</td><td>Complete  </td><td>240</td><td> 20</td><td>M</td><td>Phone</td><td>INFOCISION</td><td>5 years to less than 10 years</td><td>25-34</td><td>Female</td><td>5</td><td>3</td><td>10</td><td>20.0000000</td></tr>\n",
              "\t<tr><td>12</td><td>11706413</td><td>Complete  </td><td>240</td><td> 20</td><td>M</td><td>Phone</td><td>INFOCISION</td><td>More than 15 years           </td><td>55-64</td><td>Male  </td><td>7</td><td>6</td><td>10</td><td>20.0000000</td></tr>\n",
              "\t<tr><td>13</td><td>11706427</td><td>Complete  </td><td>600</td><td> 50</td><td>M</td><td>Phone</td><td>STAFF     </td><td>1 year to less than 3 years  </td><td>18-24</td><td>Female</td><td>3</td><td>2</td><td>10</td><td>50.0000000</td></tr>\n",
              "\t<tr><td>14</td><td>11706445</td><td>Complete  </td><td>240</td><td> 20</td><td>M</td><td>Web  </td><td>WEB       </td><td>6 months to less than a year </td><td>25-34</td><td>Male  </td><td>2</td><td>3</td><td>10</td><td>20.0000000</td></tr>\n",
              "\t<tr><td>15</td><td>11706452</td><td>Complete  </td><td>480</td><td> 40</td><td>M</td><td>Web  </td><td>WEB       </td><td>1 year to less than 3 years  </td><td>45-54</td><td>Female</td><td>3</td><td>5</td><td>10</td><td>40.0000000</td></tr>\n",
              "\t<tr><td>16</td><td>11706453</td><td>Complete  </td><td>120</td><td> 10</td><td>M</td><td>Web  </td><td>WEB       </td><td>1 year to less than 3 years  </td><td>35-44</td><td>Female</td><td>3</td><td>4</td><td>10</td><td>10.0000000</td></tr>\n",
              "\t<tr><td>17</td><td>11706467</td><td>Incomplete</td><td>240</td><td> 20</td><td>M</td><td>Phone</td><td>INFOCISION</td><td>Less than 6 months           </td><td>18-24</td><td>NA    </td><td>1</td><td>2</td><td>-1</td><td>20.0000000</td></tr>\n",
              "\t<tr><td>18</td><td>11706530</td><td>Complete  </td><td>300</td><td> 25</td><td>M</td><td>Phone</td><td>STAFF     </td><td>1 year to less than 3 years  </td><td>55-64</td><td>Female</td><td>3</td><td>6</td><td>10</td><td>25.0000000</td></tr>\n",
              "\t<tr><td>19</td><td>11706532</td><td>Complete  </td><td>120</td><td> 10</td><td>M</td><td>Phone</td><td>INFOCISION</td><td>Less than 6 months           </td><td>18-24</td><td>Male  </td><td>1</td><td>2</td><td> 9</td><td>10.0000000</td></tr>\n",
              "\t<tr><td>20</td><td>11706559</td><td>Complete  </td><td>600</td><td> 50</td><td>M</td><td>Web  </td><td>WEB       </td><td>Less than 6 months           </td><td>45-54</td><td>Male  </td><td>1</td><td>5</td><td>10</td><td>50.0000000</td></tr>\n",
              "\t<tr><td>21</td><td>11706600</td><td>Complete  </td><td>500</td><td>500</td><td>O</td><td>Phone</td><td>INFOCISION</td><td>5 years to less than 10 years</td><td>45-54</td><td>Male  </td><td>5</td><td>5</td><td>10</td><td>41.6666667</td></tr>\n",
              "\t<tr><td>22</td><td>11706634</td><td>Complete  </td><td> 20</td><td> 20</td><td>O</td><td>Phone</td><td>INFOCISION</td><td>Less than 6 months           </td><td>25-34</td><td>Female</td><td>1</td><td>3</td><td>10</td><td> 1.6666667</td></tr>\n",
              "\t<tr><td>23</td><td>11706636</td><td>Complete  </td><td>240</td><td> 20</td><td>M</td><td>Web  </td><td>WEB       </td><td>1 year to less than 3 years  </td><td>45-54</td><td>Female</td><td>3</td><td>5</td><td>10</td><td>20.0000000</td></tr>\n",
              "\t<tr><td>24</td><td>11706658</td><td>Complete  </td><td> 10</td><td> 10</td><td>O</td><td>Web  </td><td>WEB       </td><td>6 months to less than a year </td><td>25-34</td><td>Female</td><td>2</td><td>3</td><td>10</td><td> 0.8333333</td></tr>\n",
              "\t<tr><td>25</td><td>11706667</td><td>Complete  </td><td>300</td><td> 25</td><td>M</td><td>Phone</td><td>INFOCISION</td><td>5 years to less than 10 years</td><td>25-34</td><td>Female</td><td>5</td><td>3</td><td>10</td><td>25.0000000</td></tr>\n",
              "\t<tr><td>26</td><td>11706686</td><td>Complete  </td><td>480</td><td> 40</td><td>M</td><td>Phone</td><td>STAFF     </td><td>1 year to less than 3 years  </td><td>35-44</td><td>Male  </td><td>3</td><td>4</td><td>10</td><td>40.0000000</td></tr>\n",
              "\t<tr><td>27</td><td>11706718</td><td>Complete  </td><td>240</td><td> 20</td><td>M</td><td>Phone</td><td>INFOCISION</td><td>5 years to less than 10 years</td><td>65-74</td><td>Female</td><td>5</td><td>7</td><td> 9</td><td>20.0000000</td></tr>\n",
              "\t<tr><td>28</td><td>11706752</td><td>Complete  </td><td>100</td><td>100</td><td>O</td><td>Web  </td><td>WEB       </td><td>1 year to less than 3 years  </td><td>25-34</td><td>Female</td><td>3</td><td>3</td><td>10</td><td> 8.3333333</td></tr>\n",
              "\t<tr><td>29</td><td>11706780</td><td>Complete  </td><td>300</td><td> 25</td><td>M</td><td>Phone</td><td>STAFF     </td><td>3 years to less than 5 years </td><td>25-34</td><td>Female</td><td>4</td><td>3</td><td>10</td><td>25.0000000</td></tr>\n",
              "\t<tr><td>⋮</td><td>⋮</td><td>⋮</td><td>⋮</td><td>⋮</td><td>⋮</td><td>⋮</td><td>⋮</td><td>⋮</td><td>⋮</td><td>⋮</td><td>⋮</td><td>⋮</td><td>⋮</td><td>⋮</td></tr>\n",
              "\t<tr><td>2549</td><td>13159225</td><td>Complete  </td><td> 120</td><td> 10</td><td>M</td><td>Web  </td><td>WEB       </td><td>1 year to less than 3 years   </td><td>25-34</td><td>Female</td><td>3</td><td>3</td><td>10</td><td> 10.0000000</td></tr>\n",
              "\t<tr><td>2550</td><td>13162563</td><td>Complete  </td><td>  20</td><td> 20</td><td>O</td><td>Phone</td><td>STAFF     </td><td>1 year to less than 3 years   </td><td>25-34</td><td>Male  </td><td>3</td><td>3</td><td>10</td><td>  1.6666667</td></tr>\n",
              "\t<tr><td>2551</td><td>13165081</td><td>Complete  </td><td>1200</td><td>100</td><td>M</td><td>Phone</td><td>INFOCISION</td><td>10 years to less than 15 years</td><td>55-64</td><td>Male  </td><td>6</td><td>6</td><td>10</td><td>100.0000000</td></tr>\n",
              "\t<tr><td>2552</td><td>13165885</td><td>Complete  </td><td> 100</td><td>100</td><td>O</td><td>Phone</td><td>INFOCISION</td><td>5 years to less than 10 years </td><td>45-54</td><td>Female</td><td>5</td><td>5</td><td> 9</td><td>  8.3333333</td></tr>\n",
              "\t<tr><td>2553</td><td>13182585</td><td>Complete  </td><td>  60</td><td>  5</td><td>M</td><td>Phone</td><td>STAFF     </td><td>3 years to less than 5 years  </td><td>25-34</td><td>Female</td><td>4</td><td>3</td><td> 9</td><td>  5.0000000</td></tr>\n",
              "\t<tr><td>2554</td><td>13246968</td><td>Complete  </td><td> 120</td><td> 10</td><td>M</td><td>Phone</td><td>INFOCISION</td><td>5 years to less than 10 years </td><td>25-34</td><td>Female</td><td>5</td><td>3</td><td>10</td><td> 10.0000000</td></tr>\n",
              "\t<tr><td>2555</td><td>13250065</td><td>Complete  </td><td>  15</td><td> 15</td><td>O</td><td>Phone</td><td>STAFF     </td><td>1 year to less than 3 years   </td><td>18-24</td><td>Female</td><td>3</td><td>2</td><td>10</td><td>  1.2500000</td></tr>\n",
              "\t<tr><td>2556</td><td>13278063</td><td>Incomplete</td><td> 120</td><td> 10</td><td>M</td><td>Web  </td><td>WEB       </td><td>3 years to less than 5 years  </td><td>18-24</td><td>NA    </td><td>4</td><td>2</td><td>-1</td><td> 10.0000000</td></tr>\n",
              "\t<tr><td>2557</td><td>13281155</td><td>Complete  </td><td> 600</td><td> 50</td><td>M</td><td>Web  </td><td>WEB       </td><td>1 year to less than 3 years   </td><td>25-34</td><td>Male  </td><td>3</td><td>3</td><td>10</td><td> 50.0000000</td></tr>\n",
              "\t<tr><td>2558</td><td>13282585</td><td>Complete  </td><td> 480</td><td> 40</td><td>M</td><td>Phone</td><td>STAFF     </td><td>1 year to less than 3 years   </td><td>45-54</td><td>Female</td><td>3</td><td>5</td><td>10</td><td> 40.0000000</td></tr>\n",
              "\t<tr><td>2559</td><td>13287699</td><td>Complete  </td><td> 480</td><td> 40</td><td>M</td><td>Web  </td><td>WEB       </td><td>1 year to less than 3 years   </td><td>35-44</td><td>Female</td><td>3</td><td>4</td><td>10</td><td> 40.0000000</td></tr>\n",
              "\t<tr><td>2560</td><td>13317194</td><td>Complete  </td><td> 120</td><td> 10</td><td>M</td><td>Web  </td><td>WEB       </td><td>1 year to less than 3 years   </td><td>35-44</td><td>Female</td><td>3</td><td>4</td><td>10</td><td> 10.0000000</td></tr>\n",
              "\t<tr><td>2561</td><td>13331680</td><td>Complete  </td><td> 480</td><td> 40</td><td>M</td><td>Phone</td><td>STAFF     </td><td>10 years to less than 15 years</td><td>35-44</td><td>Female</td><td>6</td><td>4</td><td>10</td><td> 40.0000000</td></tr>\n",
              "\t<tr><td>2562</td><td>13338484</td><td>Complete  </td><td> 240</td><td> 20</td><td>M</td><td>Web  </td><td>WEB       </td><td>1 year to less than 3 years   </td><td>25-34</td><td>Female</td><td>3</td><td>3</td><td>10</td><td> 20.0000000</td></tr>\n",
              "\t<tr><td>2563</td><td>13340991</td><td>Complete  </td><td> 480</td><td> 40</td><td>M</td><td>Phone</td><td>INFOCISION</td><td>3 years to less than 5 years  </td><td>25-34</td><td>Female</td><td>4</td><td>3</td><td>10</td><td> 40.0000000</td></tr>\n",
              "\t<tr><td>2564</td><td>13358592</td><td>Complete  </td><td> 120</td><td> 10</td><td>M</td><td>Phone</td><td>INFOCISION</td><td>Less than 6 months            </td><td>45-54</td><td>Female</td><td>1</td><td>5</td><td>10</td><td> 10.0000000</td></tr>\n",
              "\t<tr><td>2565</td><td>13360252</td><td>Complete  </td><td> 300</td><td> 25</td><td>M</td><td>Phone</td><td>STAFF     </td><td>1 year to less than 3 years   </td><td>55-64</td><td>Female</td><td>3</td><td>6</td><td>10</td><td> 25.0000000</td></tr>\n",
              "\t<tr><td>2566</td><td>13394941</td><td>Complete  </td><td> 480</td><td> 40</td><td>M</td><td>Web  </td><td>WEB       </td><td>1 year to less than 3 years   </td><td>35-44</td><td>Male  </td><td>3</td><td>4</td><td>10</td><td> 40.0000000</td></tr>\n",
              "\t<tr><td>2567</td><td>13444055</td><td>Complete  </td><td> 480</td><td> 40</td><td>M</td><td>Phone</td><td>INFOCISION</td><td>1 year to less than 3 years   </td><td>25-34</td><td>Female</td><td>3</td><td>3</td><td>10</td><td> 40.0000000</td></tr>\n",
              "\t<tr><td>2568</td><td>13495367</td><td>Complete  </td><td> 480</td><td> 40</td><td>M</td><td>Phone</td><td>INFOCISION</td><td>Less than 6 months            </td><td>35-44</td><td>Female</td><td>1</td><td>4</td><td>10</td><td> 40.0000000</td></tr>\n",
              "\t<tr><td>2569</td><td>13507032</td><td>Complete  </td><td> 480</td><td> 40</td><td>M</td><td>Phone</td><td>STAFF     </td><td>1 year to less than 3 years   </td><td>35-44</td><td>Male  </td><td>3</td><td>4</td><td> 9</td><td> 40.0000000</td></tr>\n",
              "\t<tr><td>2570</td><td>13565327</td><td>Complete  </td><td>  60</td><td>  5</td><td>M</td><td>Phone</td><td>STAFF     </td><td>1 year to less than 3 years   </td><td>45-54</td><td>Female</td><td>3</td><td>5</td><td>-1</td><td>  5.0000000</td></tr>\n",
              "\t<tr><td>2571</td><td>13589706</td><td>Complete  </td><td> 120</td><td> 10</td><td>M</td><td>Phone</td><td>STAFF     </td><td>1 year to less than 3 years   </td><td>25-34</td><td>Female</td><td>3</td><td>3</td><td>10</td><td> 10.0000000</td></tr>\n",
              "\t<tr><td>2572</td><td>13601847</td><td>Incomplete</td><td> 480</td><td> 40</td><td>M</td><td>Phone</td><td>INFOCISION</td><td>3 years to less than 5 years  </td><td>25-34</td><td>NA    </td><td>4</td><td>3</td><td>-1</td><td> 40.0000000</td></tr>\n",
              "\t<tr><td>2573</td><td>13610170</td><td>Complete  </td><td> 120</td><td> 10</td><td>M</td><td>Phone</td><td>INFOCISION</td><td>6 months to less than a year  </td><td>25-34</td><td>Female</td><td>2</td><td>3</td><td>10</td><td> 10.0000000</td></tr>\n",
              "\t<tr><td>2574</td><td>13640772</td><td>Complete  </td><td> 120</td><td> 10</td><td>M</td><td>Phone</td><td>INFOCISION</td><td>3 years to less than 5 years  </td><td>18-24</td><td>Female</td><td>4</td><td>2</td><td>10</td><td> 10.0000000</td></tr>\n",
              "\t<tr><td>2575</td><td>13652344</td><td>Incomplete</td><td>   2</td><td>  2</td><td>O</td><td>Phone</td><td>INFOCISION</td><td>1 year to less than 3 years   </td><td>35-44</td><td>NA    </td><td>3</td><td>4</td><td>-1</td><td>  0.1666667</td></tr>\n",
              "\t<tr><td>2576</td><td>13732056</td><td>Complete  </td><td> 120</td><td> 10</td><td>M</td><td>Phone</td><td>STAFF     </td><td>1 year to less than 3 years   </td><td>18-24</td><td>Female</td><td>3</td><td>2</td><td>10</td><td> 10.0000000</td></tr>\n",
              "\t<tr><td>2577</td><td>13734055</td><td>Complete  </td><td> 480</td><td> 40</td><td>M</td><td>Web  </td><td>WEB       </td><td>Less than 6 months            </td><td>25-34</td><td>Male  </td><td>1</td><td>3</td><td>10</td><td> 40.0000000</td></tr>\n",
              "\t<tr><td>2578</td><td>13777359</td><td>Complete  </td><td> 120</td><td> 10</td><td>M</td><td>Web  </td><td>WEB       </td><td>3 years to less than 5 years  </td><td>35-44</td><td>Male  </td><td>4</td><td>4</td><td>10</td><td> 10.0000000</td></tr>\n",
              "</tbody>\n",
              "</table>\n"
            ],
            "text/markdown": "\nA data.frame: 2579 × 15\n\n| x &lt;int&gt; | response_id &lt;int&gt; | response_status &lt;chr&gt; | total_amount &lt;dbl&gt; | amount_per_gift &lt;dbl&gt; | pledge_frequency &lt;chr&gt; | source_type &lt;chr&gt; | plg_user_group &lt;chr&gt; | how_long_listening &lt;chr&gt; | age &lt;chr&gt; | gender &lt;chr&gt; | how_long_listening_code &lt;int&gt; | age_code &lt;int&gt; | nps_score &lt;int&gt; | monthly_equiv &lt;dbl&gt; |\n|---|---|---|---|---|---|---|---|---|---|---|---|---|---|---|\n|  0 | 11706300 | Complete   |  20 |  20 | O | Phone | INFOCISION | Less than 6 months            | 25-34 | Female | 1 | 3 | 10 |  1.6666667 |\n|  1 | 11706302 | Complete   | 600 |  50 | M | Phone | INFOCISION | 1 year to less than 3 years   | 25-34 | Female | 3 | 3 | 10 | 50.0000000 |\n|  2 | 11706307 | Complete   |  20 |  20 | O | Phone | INFOCISION | 6 months to less than a year  | 35-44 | Female | 2 | 4 | 10 |  1.6666667 |\n|  3 | 11706312 | Complete   |  20 |  20 | O | Phone | INFOCISION | Less than 6 months            | 35-44 | Female | 1 | 4 | 10 |  1.6666667 |\n|  4 | 11706316 | Complete   |  40 |  40 | O | Phone | INFOCISION | 6 months to less than a year  | 25-34 | Male   | 2 | 3 | 10 |  3.3333333 |\n|  5 | 11706318 | Complete   |  10 |  10 | O | Web   | WEB        | 5 years to less than 10 years | 35-44 | Female | 5 | 4 | 10 |  0.8333333 |\n|  6 | 11706335 | Complete   | 240 |  20 | M | Phone | STAFF      | 3 years to less than 5 years  | 25-34 | Female | 4 | 3 |  8 | 20.0000000 |\n|  7 | 11706368 | Complete   | 120 |  10 | M | Phone | INFOCISION | 6 months to less than a year  | 18-24 | Female | 2 | 2 | 10 | 10.0000000 |\n|  8 | 11706376 | Complete   |  60 |  60 | O | Web   | WEB        | 3 years to less than 5 years  | 45-54 | Male   | 4 | 5 |  9 |  5.0000000 |\n|  9 | 11706396 | Complete   | 240 |  20 | M | Phone | INFOCISION | 1 year to less than 3 years   | 45-54 | Male   | 3 | 5 | 10 | 20.0000000 |\n| 10 | 11706402 | Complete   | 240 |  20 | M | Web   | WEB        | 1 year to less than 3 years   | 35-44 | Male   | 3 | 4 | 10 | 20.0000000 |\n| 11 | 11706403 | Complete   | 240 |  20 | M | Phone | INFOCISION | 5 years to less than 10 years | 25-34 | Female | 5 | 3 | 10 | 20.0000000 |\n| 12 | 11706413 | Complete   | 240 |  20 | M | Phone | INFOCISION | More than 15 years            | 55-64 | Male   | 7 | 6 | 10 | 20.0000000 |\n| 13 | 11706427 | Complete   | 600 |  50 | M | Phone | STAFF      | 1 year to less than 3 years   | 18-24 | Female | 3 | 2 | 10 | 50.0000000 |\n| 14 | 11706445 | Complete   | 240 |  20 | M | Web   | WEB        | 6 months to less than a year  | 25-34 | Male   | 2 | 3 | 10 | 20.0000000 |\n| 15 | 11706452 | Complete   | 480 |  40 | M | Web   | WEB        | 1 year to less than 3 years   | 45-54 | Female | 3 | 5 | 10 | 40.0000000 |\n| 16 | 11706453 | Complete   | 120 |  10 | M | Web   | WEB        | 1 year to less than 3 years   | 35-44 | Female | 3 | 4 | 10 | 10.0000000 |\n| 17 | 11706467 | Incomplete | 240 |  20 | M | Phone | INFOCISION | Less than 6 months            | 18-24 | NA     | 1 | 2 | -1 | 20.0000000 |\n| 18 | 11706530 | Complete   | 300 |  25 | M | Phone | STAFF      | 1 year to less than 3 years   | 55-64 | Female | 3 | 6 | 10 | 25.0000000 |\n| 19 | 11706532 | Complete   | 120 |  10 | M | Phone | INFOCISION | Less than 6 months            | 18-24 | Male   | 1 | 2 |  9 | 10.0000000 |\n| 20 | 11706559 | Complete   | 600 |  50 | M | Web   | WEB        | Less than 6 months            | 45-54 | Male   | 1 | 5 | 10 | 50.0000000 |\n| 21 | 11706600 | Complete   | 500 | 500 | O | Phone | INFOCISION | 5 years to less than 10 years | 45-54 | Male   | 5 | 5 | 10 | 41.6666667 |\n| 22 | 11706634 | Complete   |  20 |  20 | O | Phone | INFOCISION | Less than 6 months            | 25-34 | Female | 1 | 3 | 10 |  1.6666667 |\n| 23 | 11706636 | Complete   | 240 |  20 | M | Web   | WEB        | 1 year to less than 3 years   | 45-54 | Female | 3 | 5 | 10 | 20.0000000 |\n| 24 | 11706658 | Complete   |  10 |  10 | O | Web   | WEB        | 6 months to less than a year  | 25-34 | Female | 2 | 3 | 10 |  0.8333333 |\n| 25 | 11706667 | Complete   | 300 |  25 | M | Phone | INFOCISION | 5 years to less than 10 years | 25-34 | Female | 5 | 3 | 10 | 25.0000000 |\n| 26 | 11706686 | Complete   | 480 |  40 | M | Phone | STAFF      | 1 year to less than 3 years   | 35-44 | Male   | 3 | 4 | 10 | 40.0000000 |\n| 27 | 11706718 | Complete   | 240 |  20 | M | Phone | INFOCISION | 5 years to less than 10 years | 65-74 | Female | 5 | 7 |  9 | 20.0000000 |\n| 28 | 11706752 | Complete   | 100 | 100 | O | Web   | WEB        | 1 year to less than 3 years   | 25-34 | Female | 3 | 3 | 10 |  8.3333333 |\n| 29 | 11706780 | Complete   | 300 |  25 | M | Phone | STAFF      | 3 years to less than 5 years  | 25-34 | Female | 4 | 3 | 10 | 25.0000000 |\n| ⋮ | ⋮ | ⋮ | ⋮ | ⋮ | ⋮ | ⋮ | ⋮ | ⋮ | ⋮ | ⋮ | ⋮ | ⋮ | ⋮ | ⋮ |\n| 2549 | 13159225 | Complete   |  120 |  10 | M | Web   | WEB        | 1 year to less than 3 years    | 25-34 | Female | 3 | 3 | 10 |  10.0000000 |\n| 2550 | 13162563 | Complete   |   20 |  20 | O | Phone | STAFF      | 1 year to less than 3 years    | 25-34 | Male   | 3 | 3 | 10 |   1.6666667 |\n| 2551 | 13165081 | Complete   | 1200 | 100 | M | Phone | INFOCISION | 10 years to less than 15 years | 55-64 | Male   | 6 | 6 | 10 | 100.0000000 |\n| 2552 | 13165885 | Complete   |  100 | 100 | O | Phone | INFOCISION | 5 years to less than 10 years  | 45-54 | Female | 5 | 5 |  9 |   8.3333333 |\n| 2553 | 13182585 | Complete   |   60 |   5 | M | Phone | STAFF      | 3 years to less than 5 years   | 25-34 | Female | 4 | 3 |  9 |   5.0000000 |\n| 2554 | 13246968 | Complete   |  120 |  10 | M | Phone | INFOCISION | 5 years to less than 10 years  | 25-34 | Female | 5 | 3 | 10 |  10.0000000 |\n| 2555 | 13250065 | Complete   |   15 |  15 | O | Phone | STAFF      | 1 year to less than 3 years    | 18-24 | Female | 3 | 2 | 10 |   1.2500000 |\n| 2556 | 13278063 | Incomplete |  120 |  10 | M | Web   | WEB        | 3 years to less than 5 years   | 18-24 | NA     | 4 | 2 | -1 |  10.0000000 |\n| 2557 | 13281155 | Complete   |  600 |  50 | M | Web   | WEB        | 1 year to less than 3 years    | 25-34 | Male   | 3 | 3 | 10 |  50.0000000 |\n| 2558 | 13282585 | Complete   |  480 |  40 | M | Phone | STAFF      | 1 year to less than 3 years    | 45-54 | Female | 3 | 5 | 10 |  40.0000000 |\n| 2559 | 13287699 | Complete   |  480 |  40 | M | Web   | WEB        | 1 year to less than 3 years    | 35-44 | Female | 3 | 4 | 10 |  40.0000000 |\n| 2560 | 13317194 | Complete   |  120 |  10 | M | Web   | WEB        | 1 year to less than 3 years    | 35-44 | Female | 3 | 4 | 10 |  10.0000000 |\n| 2561 | 13331680 | Complete   |  480 |  40 | M | Phone | STAFF      | 10 years to less than 15 years | 35-44 | Female | 6 | 4 | 10 |  40.0000000 |\n| 2562 | 13338484 | Complete   |  240 |  20 | M | Web   | WEB        | 1 year to less than 3 years    | 25-34 | Female | 3 | 3 | 10 |  20.0000000 |\n| 2563 | 13340991 | Complete   |  480 |  40 | M | Phone | INFOCISION | 3 years to less than 5 years   | 25-34 | Female | 4 | 3 | 10 |  40.0000000 |\n| 2564 | 13358592 | Complete   |  120 |  10 | M | Phone | INFOCISION | Less than 6 months             | 45-54 | Female | 1 | 5 | 10 |  10.0000000 |\n| 2565 | 13360252 | Complete   |  300 |  25 | M | Phone | STAFF      | 1 year to less than 3 years    | 55-64 | Female | 3 | 6 | 10 |  25.0000000 |\n| 2566 | 13394941 | Complete   |  480 |  40 | M | Web   | WEB        | 1 year to less than 3 years    | 35-44 | Male   | 3 | 4 | 10 |  40.0000000 |\n| 2567 | 13444055 | Complete   |  480 |  40 | M | Phone | INFOCISION | 1 year to less than 3 years    | 25-34 | Female | 3 | 3 | 10 |  40.0000000 |\n| 2568 | 13495367 | Complete   |  480 |  40 | M | Phone | INFOCISION | Less than 6 months             | 35-44 | Female | 1 | 4 | 10 |  40.0000000 |\n| 2569 | 13507032 | Complete   |  480 |  40 | M | Phone | STAFF      | 1 year to less than 3 years    | 35-44 | Male   | 3 | 4 |  9 |  40.0000000 |\n| 2570 | 13565327 | Complete   |   60 |   5 | M | Phone | STAFF      | 1 year to less than 3 years    | 45-54 | Female | 3 | 5 | -1 |   5.0000000 |\n| 2571 | 13589706 | Complete   |  120 |  10 | M | Phone | STAFF      | 1 year to less than 3 years    | 25-34 | Female | 3 | 3 | 10 |  10.0000000 |\n| 2572 | 13601847 | Incomplete |  480 |  40 | M | Phone | INFOCISION | 3 years to less than 5 years   | 25-34 | NA     | 4 | 3 | -1 |  40.0000000 |\n| 2573 | 13610170 | Complete   |  120 |  10 | M | Phone | INFOCISION | 6 months to less than a year   | 25-34 | Female | 2 | 3 | 10 |  10.0000000 |\n| 2574 | 13640772 | Complete   |  120 |  10 | M | Phone | INFOCISION | 3 years to less than 5 years   | 18-24 | Female | 4 | 2 | 10 |  10.0000000 |\n| 2575 | 13652344 | Incomplete |    2 |   2 | O | Phone | INFOCISION | 1 year to less than 3 years    | 35-44 | NA     | 3 | 4 | -1 |   0.1666667 |\n| 2576 | 13732056 | Complete   |  120 |  10 | M | Phone | STAFF      | 1 year to less than 3 years    | 18-24 | Female | 3 | 2 | 10 |  10.0000000 |\n| 2577 | 13734055 | Complete   |  480 |  40 | M | Web   | WEB        | Less than 6 months             | 25-34 | Male   | 1 | 3 | 10 |  40.0000000 |\n| 2578 | 13777359 | Complete   |  120 |  10 | M | Web   | WEB        | 3 years to less than 5 years   | 35-44 | Male   | 4 | 4 | 10 |  10.0000000 |\n\n",
            "text/latex": "A data.frame: 2579 × 15\n\\begin{tabular}{lllllllllllllll}\n x & response\\_id & response\\_status & total\\_amount & amount\\_per\\_gift & pledge\\_frequency & source\\_type & plg\\_user\\_group & how\\_long\\_listening & age & gender & how\\_long\\_listening\\_code & age\\_code & nps\\_score & monthly\\_equiv\\\\\n <int> & <int> & <chr> & <dbl> & <dbl> & <chr> & <chr> & <chr> & <chr> & <chr> & <chr> & <int> & <int> & <int> & <dbl>\\\\\n\\hline\n\t  0 & 11706300 & Complete   &  20 &  20 & O & Phone & INFOCISION & Less than 6 months            & 25-34 & Female & 1 & 3 & 10 &  1.6666667\\\\\n\t  1 & 11706302 & Complete   & 600 &  50 & M & Phone & INFOCISION & 1 year to less than 3 years   & 25-34 & Female & 3 & 3 & 10 & 50.0000000\\\\\n\t  2 & 11706307 & Complete   &  20 &  20 & O & Phone & INFOCISION & 6 months to less than a year  & 35-44 & Female & 2 & 4 & 10 &  1.6666667\\\\\n\t  3 & 11706312 & Complete   &  20 &  20 & O & Phone & INFOCISION & Less than 6 months            & 35-44 & Female & 1 & 4 & 10 &  1.6666667\\\\\n\t  4 & 11706316 & Complete   &  40 &  40 & O & Phone & INFOCISION & 6 months to less than a year  & 25-34 & Male   & 2 & 3 & 10 &  3.3333333\\\\\n\t  5 & 11706318 & Complete   &  10 &  10 & O & Web   & WEB        & 5 years to less than 10 years & 35-44 & Female & 5 & 4 & 10 &  0.8333333\\\\\n\t  6 & 11706335 & Complete   & 240 &  20 & M & Phone & STAFF      & 3 years to less than 5 years  & 25-34 & Female & 4 & 3 &  8 & 20.0000000\\\\\n\t  7 & 11706368 & Complete   & 120 &  10 & M & Phone & INFOCISION & 6 months to less than a year  & 18-24 & Female & 2 & 2 & 10 & 10.0000000\\\\\n\t  8 & 11706376 & Complete   &  60 &  60 & O & Web   & WEB        & 3 years to less than 5 years  & 45-54 & Male   & 4 & 5 &  9 &  5.0000000\\\\\n\t  9 & 11706396 & Complete   & 240 &  20 & M & Phone & INFOCISION & 1 year to less than 3 years   & 45-54 & Male   & 3 & 5 & 10 & 20.0000000\\\\\n\t 10 & 11706402 & Complete   & 240 &  20 & M & Web   & WEB        & 1 year to less than 3 years   & 35-44 & Male   & 3 & 4 & 10 & 20.0000000\\\\\n\t 11 & 11706403 & Complete   & 240 &  20 & M & Phone & INFOCISION & 5 years to less than 10 years & 25-34 & Female & 5 & 3 & 10 & 20.0000000\\\\\n\t 12 & 11706413 & Complete   & 240 &  20 & M & Phone & INFOCISION & More than 15 years            & 55-64 & Male   & 7 & 6 & 10 & 20.0000000\\\\\n\t 13 & 11706427 & Complete   & 600 &  50 & M & Phone & STAFF      & 1 year to less than 3 years   & 18-24 & Female & 3 & 2 & 10 & 50.0000000\\\\\n\t 14 & 11706445 & Complete   & 240 &  20 & M & Web   & WEB        & 6 months to less than a year  & 25-34 & Male   & 2 & 3 & 10 & 20.0000000\\\\\n\t 15 & 11706452 & Complete   & 480 &  40 & M & Web   & WEB        & 1 year to less than 3 years   & 45-54 & Female & 3 & 5 & 10 & 40.0000000\\\\\n\t 16 & 11706453 & Complete   & 120 &  10 & M & Web   & WEB        & 1 year to less than 3 years   & 35-44 & Female & 3 & 4 & 10 & 10.0000000\\\\\n\t 17 & 11706467 & Incomplete & 240 &  20 & M & Phone & INFOCISION & Less than 6 months            & 18-24 & NA     & 1 & 2 & -1 & 20.0000000\\\\\n\t 18 & 11706530 & Complete   & 300 &  25 & M & Phone & STAFF      & 1 year to less than 3 years   & 55-64 & Female & 3 & 6 & 10 & 25.0000000\\\\\n\t 19 & 11706532 & Complete   & 120 &  10 & M & Phone & INFOCISION & Less than 6 months            & 18-24 & Male   & 1 & 2 &  9 & 10.0000000\\\\\n\t 20 & 11706559 & Complete   & 600 &  50 & M & Web   & WEB        & Less than 6 months            & 45-54 & Male   & 1 & 5 & 10 & 50.0000000\\\\\n\t 21 & 11706600 & Complete   & 500 & 500 & O & Phone & INFOCISION & 5 years to less than 10 years & 45-54 & Male   & 5 & 5 & 10 & 41.6666667\\\\\n\t 22 & 11706634 & Complete   &  20 &  20 & O & Phone & INFOCISION & Less than 6 months            & 25-34 & Female & 1 & 3 & 10 &  1.6666667\\\\\n\t 23 & 11706636 & Complete   & 240 &  20 & M & Web   & WEB        & 1 year to less than 3 years   & 45-54 & Female & 3 & 5 & 10 & 20.0000000\\\\\n\t 24 & 11706658 & Complete   &  10 &  10 & O & Web   & WEB        & 6 months to less than a year  & 25-34 & Female & 2 & 3 & 10 &  0.8333333\\\\\n\t 25 & 11706667 & Complete   & 300 &  25 & M & Phone & INFOCISION & 5 years to less than 10 years & 25-34 & Female & 5 & 3 & 10 & 25.0000000\\\\\n\t 26 & 11706686 & Complete   & 480 &  40 & M & Phone & STAFF      & 1 year to less than 3 years   & 35-44 & Male   & 3 & 4 & 10 & 40.0000000\\\\\n\t 27 & 11706718 & Complete   & 240 &  20 & M & Phone & INFOCISION & 5 years to less than 10 years & 65-74 & Female & 5 & 7 &  9 & 20.0000000\\\\\n\t 28 & 11706752 & Complete   & 100 & 100 & O & Web   & WEB        & 1 year to less than 3 years   & 25-34 & Female & 3 & 3 & 10 &  8.3333333\\\\\n\t 29 & 11706780 & Complete   & 300 &  25 & M & Phone & STAFF      & 3 years to less than 5 years  & 25-34 & Female & 4 & 3 & 10 & 25.0000000\\\\\n\t ⋮ & ⋮ & ⋮ & ⋮ & ⋮ & ⋮ & ⋮ & ⋮ & ⋮ & ⋮ & ⋮ & ⋮ & ⋮ & ⋮ & ⋮\\\\\n\t 2549 & 13159225 & Complete   &  120 &  10 & M & Web   & WEB        & 1 year to less than 3 years    & 25-34 & Female & 3 & 3 & 10 &  10.0000000\\\\\n\t 2550 & 13162563 & Complete   &   20 &  20 & O & Phone & STAFF      & 1 year to less than 3 years    & 25-34 & Male   & 3 & 3 & 10 &   1.6666667\\\\\n\t 2551 & 13165081 & Complete   & 1200 & 100 & M & Phone & INFOCISION & 10 years to less than 15 years & 55-64 & Male   & 6 & 6 & 10 & 100.0000000\\\\\n\t 2552 & 13165885 & Complete   &  100 & 100 & O & Phone & INFOCISION & 5 years to less than 10 years  & 45-54 & Female & 5 & 5 &  9 &   8.3333333\\\\\n\t 2553 & 13182585 & Complete   &   60 &   5 & M & Phone & STAFF      & 3 years to less than 5 years   & 25-34 & Female & 4 & 3 &  9 &   5.0000000\\\\\n\t 2554 & 13246968 & Complete   &  120 &  10 & M & Phone & INFOCISION & 5 years to less than 10 years  & 25-34 & Female & 5 & 3 & 10 &  10.0000000\\\\\n\t 2555 & 13250065 & Complete   &   15 &  15 & O & Phone & STAFF      & 1 year to less than 3 years    & 18-24 & Female & 3 & 2 & 10 &   1.2500000\\\\\n\t 2556 & 13278063 & Incomplete &  120 &  10 & M & Web   & WEB        & 3 years to less than 5 years   & 18-24 & NA     & 4 & 2 & -1 &  10.0000000\\\\\n\t 2557 & 13281155 & Complete   &  600 &  50 & M & Web   & WEB        & 1 year to less than 3 years    & 25-34 & Male   & 3 & 3 & 10 &  50.0000000\\\\\n\t 2558 & 13282585 & Complete   &  480 &  40 & M & Phone & STAFF      & 1 year to less than 3 years    & 45-54 & Female & 3 & 5 & 10 &  40.0000000\\\\\n\t 2559 & 13287699 & Complete   &  480 &  40 & M & Web   & WEB        & 1 year to less than 3 years    & 35-44 & Female & 3 & 4 & 10 &  40.0000000\\\\\n\t 2560 & 13317194 & Complete   &  120 &  10 & M & Web   & WEB        & 1 year to less than 3 years    & 35-44 & Female & 3 & 4 & 10 &  10.0000000\\\\\n\t 2561 & 13331680 & Complete   &  480 &  40 & M & Phone & STAFF      & 10 years to less than 15 years & 35-44 & Female & 6 & 4 & 10 &  40.0000000\\\\\n\t 2562 & 13338484 & Complete   &  240 &  20 & M & Web   & WEB        & 1 year to less than 3 years    & 25-34 & Female & 3 & 3 & 10 &  20.0000000\\\\\n\t 2563 & 13340991 & Complete   &  480 &  40 & M & Phone & INFOCISION & 3 years to less than 5 years   & 25-34 & Female & 4 & 3 & 10 &  40.0000000\\\\\n\t 2564 & 13358592 & Complete   &  120 &  10 & M & Phone & INFOCISION & Less than 6 months             & 45-54 & Female & 1 & 5 & 10 &  10.0000000\\\\\n\t 2565 & 13360252 & Complete   &  300 &  25 & M & Phone & STAFF      & 1 year to less than 3 years    & 55-64 & Female & 3 & 6 & 10 &  25.0000000\\\\\n\t 2566 & 13394941 & Complete   &  480 &  40 & M & Web   & WEB        & 1 year to less than 3 years    & 35-44 & Male   & 3 & 4 & 10 &  40.0000000\\\\\n\t 2567 & 13444055 & Complete   &  480 &  40 & M & Phone & INFOCISION & 1 year to less than 3 years    & 25-34 & Female & 3 & 3 & 10 &  40.0000000\\\\\n\t 2568 & 13495367 & Complete   &  480 &  40 & M & Phone & INFOCISION & Less than 6 months             & 35-44 & Female & 1 & 4 & 10 &  40.0000000\\\\\n\t 2569 & 13507032 & Complete   &  480 &  40 & M & Phone & STAFF      & 1 year to less than 3 years    & 35-44 & Male   & 3 & 4 &  9 &  40.0000000\\\\\n\t 2570 & 13565327 & Complete   &   60 &   5 & M & Phone & STAFF      & 1 year to less than 3 years    & 45-54 & Female & 3 & 5 & -1 &   5.0000000\\\\\n\t 2571 & 13589706 & Complete   &  120 &  10 & M & Phone & STAFF      & 1 year to less than 3 years    & 25-34 & Female & 3 & 3 & 10 &  10.0000000\\\\\n\t 2572 & 13601847 & Incomplete &  480 &  40 & M & Phone & INFOCISION & 3 years to less than 5 years   & 25-34 & NA     & 4 & 3 & -1 &  40.0000000\\\\\n\t 2573 & 13610170 & Complete   &  120 &  10 & M & Phone & INFOCISION & 6 months to less than a year   & 25-34 & Female & 2 & 3 & 10 &  10.0000000\\\\\n\t 2574 & 13640772 & Complete   &  120 &  10 & M & Phone & INFOCISION & 3 years to less than 5 years   & 18-24 & Female & 4 & 2 & 10 &  10.0000000\\\\\n\t 2575 & 13652344 & Incomplete &    2 &   2 & O & Phone & INFOCISION & 1 year to less than 3 years    & 35-44 & NA     & 3 & 4 & -1 &   0.1666667\\\\\n\t 2576 & 13732056 & Complete   &  120 &  10 & M & Phone & STAFF      & 1 year to less than 3 years    & 18-24 & Female & 3 & 2 & 10 &  10.0000000\\\\\n\t 2577 & 13734055 & Complete   &  480 &  40 & M & Web   & WEB        & Less than 6 months             & 25-34 & Male   & 1 & 3 & 10 &  40.0000000\\\\\n\t 2578 & 13777359 & Complete   &  120 &  10 & M & Web   & WEB        & 3 years to less than 5 years   & 35-44 & Male   & 4 & 4 & 10 &  10.0000000\\\\\n\\end{tabular}\n",
            "text/plain": [
              "     x    response_id response_status total_amount amount_per_gift\n",
              "1     0   11706300    Complete         20           20            \n",
              "2     1   11706302    Complete        600           50            \n",
              "3     2   11706307    Complete         20           20            \n",
              "4     3   11706312    Complete         20           20            \n",
              "5     4   11706316    Complete         40           40            \n",
              "6     5   11706318    Complete         10           10            \n",
              "7     6   11706335    Complete        240           20            \n",
              "8     7   11706368    Complete        120           10            \n",
              "9     8   11706376    Complete         60           60            \n",
              "10    9   11706396    Complete        240           20            \n",
              "11   10   11706402    Complete        240           20            \n",
              "12   11   11706403    Complete        240           20            \n",
              "13   12   11706413    Complete        240           20            \n",
              "14   13   11706427    Complete        600           50            \n",
              "15   14   11706445    Complete        240           20            \n",
              "16   15   11706452    Complete        480           40            \n",
              "17   16   11706453    Complete        120           10            \n",
              "18   17   11706467    Incomplete      240           20            \n",
              "19   18   11706530    Complete        300           25            \n",
              "20   19   11706532    Complete        120           10            \n",
              "21   20   11706559    Complete        600           50            \n",
              "22   21   11706600    Complete        500          500            \n",
              "23   22   11706634    Complete         20           20            \n",
              "24   23   11706636    Complete        240           20            \n",
              "25   24   11706658    Complete         10           10            \n",
              "26   25   11706667    Complete        300           25            \n",
              "27   26   11706686    Complete        480           40            \n",
              "28   27   11706718    Complete        240           20            \n",
              "29   28   11706752    Complete        100          100            \n",
              "30   29   11706780    Complete        300           25            \n",
              "⋮    ⋮    ⋮           ⋮               ⋮            ⋮              \n",
              "2550 2549 13159225    Complete         120          10            \n",
              "2551 2550 13162563    Complete          20          20            \n",
              "2552 2551 13165081    Complete        1200         100            \n",
              "2553 2552 13165885    Complete         100         100            \n",
              "2554 2553 13182585    Complete          60           5            \n",
              "2555 2554 13246968    Complete         120          10            \n",
              "2556 2555 13250065    Complete          15          15            \n",
              "2557 2556 13278063    Incomplete       120          10            \n",
              "2558 2557 13281155    Complete         600          50            \n",
              "2559 2558 13282585    Complete         480          40            \n",
              "2560 2559 13287699    Complete         480          40            \n",
              "2561 2560 13317194    Complete         120          10            \n",
              "2562 2561 13331680    Complete         480          40            \n",
              "2563 2562 13338484    Complete         240          20            \n",
              "2564 2563 13340991    Complete         480          40            \n",
              "2565 2564 13358592    Complete         120          10            \n",
              "2566 2565 13360252    Complete         300          25            \n",
              "2567 2566 13394941    Complete         480          40            \n",
              "2568 2567 13444055    Complete         480          40            \n",
              "2569 2568 13495367    Complete         480          40            \n",
              "2570 2569 13507032    Complete         480          40            \n",
              "2571 2570 13565327    Complete          60           5            \n",
              "2572 2571 13589706    Complete         120          10            \n",
              "2573 2572 13601847    Incomplete       480          40            \n",
              "2574 2573 13610170    Complete         120          10            \n",
              "2575 2574 13640772    Complete         120          10            \n",
              "2576 2575 13652344    Incomplete         2           2            \n",
              "2577 2576 13732056    Complete         120          10            \n",
              "2578 2577 13734055    Complete         480          40            \n",
              "2579 2578 13777359    Complete         120          10            \n",
              "     pledge_frequency source_type plg_user_group how_long_listening            \n",
              "1    O                Phone       INFOCISION     Less than 6 months            \n",
              "2    M                Phone       INFOCISION     1 year to less than 3 years   \n",
              "3    O                Phone       INFOCISION     6 months to less than a year  \n",
              "4    O                Phone       INFOCISION     Less than 6 months            \n",
              "5    O                Phone       INFOCISION     6 months to less than a year  \n",
              "6    O                Web         WEB            5 years to less than 10 years \n",
              "7    M                Phone       STAFF          3 years to less than 5 years  \n",
              "8    M                Phone       INFOCISION     6 months to less than a year  \n",
              "9    O                Web         WEB            3 years to less than 5 years  \n",
              "10   M                Phone       INFOCISION     1 year to less than 3 years   \n",
              "11   M                Web         WEB            1 year to less than 3 years   \n",
              "12   M                Phone       INFOCISION     5 years to less than 10 years \n",
              "13   M                Phone       INFOCISION     More than 15 years            \n",
              "14   M                Phone       STAFF          1 year to less than 3 years   \n",
              "15   M                Web         WEB            6 months to less than a year  \n",
              "16   M                Web         WEB            1 year to less than 3 years   \n",
              "17   M                Web         WEB            1 year to less than 3 years   \n",
              "18   M                Phone       INFOCISION     Less than 6 months            \n",
              "19   M                Phone       STAFF          1 year to less than 3 years   \n",
              "20   M                Phone       INFOCISION     Less than 6 months            \n",
              "21   M                Web         WEB            Less than 6 months            \n",
              "22   O                Phone       INFOCISION     5 years to less than 10 years \n",
              "23   O                Phone       INFOCISION     Less than 6 months            \n",
              "24   M                Web         WEB            1 year to less than 3 years   \n",
              "25   O                Web         WEB            6 months to less than a year  \n",
              "26   M                Phone       INFOCISION     5 years to less than 10 years \n",
              "27   M                Phone       STAFF          1 year to less than 3 years   \n",
              "28   M                Phone       INFOCISION     5 years to less than 10 years \n",
              "29   O                Web         WEB            1 year to less than 3 years   \n",
              "30   M                Phone       STAFF          3 years to less than 5 years  \n",
              "⋮    ⋮                ⋮           ⋮              ⋮                             \n",
              "2550 M                Web         WEB            1 year to less than 3 years   \n",
              "2551 O                Phone       STAFF          1 year to less than 3 years   \n",
              "2552 M                Phone       INFOCISION     10 years to less than 15 years\n",
              "2553 O                Phone       INFOCISION     5 years to less than 10 years \n",
              "2554 M                Phone       STAFF          3 years to less than 5 years  \n",
              "2555 M                Phone       INFOCISION     5 years to less than 10 years \n",
              "2556 O                Phone       STAFF          1 year to less than 3 years   \n",
              "2557 M                Web         WEB            3 years to less than 5 years  \n",
              "2558 M                Web         WEB            1 year to less than 3 years   \n",
              "2559 M                Phone       STAFF          1 year to less than 3 years   \n",
              "2560 M                Web         WEB            1 year to less than 3 years   \n",
              "2561 M                Web         WEB            1 year to less than 3 years   \n",
              "2562 M                Phone       STAFF          10 years to less than 15 years\n",
              "2563 M                Web         WEB            1 year to less than 3 years   \n",
              "2564 M                Phone       INFOCISION     3 years to less than 5 years  \n",
              "2565 M                Phone       INFOCISION     Less than 6 months            \n",
              "2566 M                Phone       STAFF          1 year to less than 3 years   \n",
              "2567 M                Web         WEB            1 year to less than 3 years   \n",
              "2568 M                Phone       INFOCISION     1 year to less than 3 years   \n",
              "2569 M                Phone       INFOCISION     Less than 6 months            \n",
              "2570 M                Phone       STAFF          1 year to less than 3 years   \n",
              "2571 M                Phone       STAFF          1 year to less than 3 years   \n",
              "2572 M                Phone       STAFF          1 year to less than 3 years   \n",
              "2573 M                Phone       INFOCISION     3 years to less than 5 years  \n",
              "2574 M                Phone       INFOCISION     6 months to less than a year  \n",
              "2575 M                Phone       INFOCISION     3 years to less than 5 years  \n",
              "2576 O                Phone       INFOCISION     1 year to less than 3 years   \n",
              "2577 M                Phone       STAFF          1 year to less than 3 years   \n",
              "2578 M                Web         WEB            Less than 6 months            \n",
              "2579 M                Web         WEB            3 years to less than 5 years  \n",
              "     age   gender how_long_listening_code age_code nps_score monthly_equiv\n",
              "1    25-34 Female 1                       3        10         1.6666667   \n",
              "2    25-34 Female 3                       3        10        50.0000000   \n",
              "3    35-44 Female 2                       4        10         1.6666667   \n",
              "4    35-44 Female 1                       4        10         1.6666667   \n",
              "5    25-34 Male   2                       3        10         3.3333333   \n",
              "6    35-44 Female 5                       4        10         0.8333333   \n",
              "7    25-34 Female 4                       3         8        20.0000000   \n",
              "8    18-24 Female 2                       2        10        10.0000000   \n",
              "9    45-54 Male   4                       5         9         5.0000000   \n",
              "10   45-54 Male   3                       5        10        20.0000000   \n",
              "11   35-44 Male   3                       4        10        20.0000000   \n",
              "12   25-34 Female 5                       3        10        20.0000000   \n",
              "13   55-64 Male   7                       6        10        20.0000000   \n",
              "14   18-24 Female 3                       2        10        50.0000000   \n",
              "15   25-34 Male   2                       3        10        20.0000000   \n",
              "16   45-54 Female 3                       5        10        40.0000000   \n",
              "17   35-44 Female 3                       4        10        10.0000000   \n",
              "18   18-24 NA     1                       2        -1        20.0000000   \n",
              "19   55-64 Female 3                       6        10        25.0000000   \n",
              "20   18-24 Male   1                       2         9        10.0000000   \n",
              "21   45-54 Male   1                       5        10        50.0000000   \n",
              "22   45-54 Male   5                       5        10        41.6666667   \n",
              "23   25-34 Female 1                       3        10         1.6666667   \n",
              "24   45-54 Female 3                       5        10        20.0000000   \n",
              "25   25-34 Female 2                       3        10         0.8333333   \n",
              "26   25-34 Female 5                       3        10        25.0000000   \n",
              "27   35-44 Male   3                       4        10        40.0000000   \n",
              "28   65-74 Female 5                       7         9        20.0000000   \n",
              "29   25-34 Female 3                       3        10         8.3333333   \n",
              "30   25-34 Female 4                       3        10        25.0000000   \n",
              "⋮    ⋮     ⋮      ⋮                       ⋮        ⋮         ⋮            \n",
              "2550 25-34 Female 3                       3        10         10.0000000  \n",
              "2551 25-34 Male   3                       3        10          1.6666667  \n",
              "2552 55-64 Male   6                       6        10        100.0000000  \n",
              "2553 45-54 Female 5                       5         9          8.3333333  \n",
              "2554 25-34 Female 4                       3         9          5.0000000  \n",
              "2555 25-34 Female 5                       3        10         10.0000000  \n",
              "2556 18-24 Female 3                       2        10          1.2500000  \n",
              "2557 18-24 NA     4                       2        -1         10.0000000  \n",
              "2558 25-34 Male   3                       3        10         50.0000000  \n",
              "2559 45-54 Female 3                       5        10         40.0000000  \n",
              "2560 35-44 Female 3                       4        10         40.0000000  \n",
              "2561 35-44 Female 3                       4        10         10.0000000  \n",
              "2562 35-44 Female 6                       4        10         40.0000000  \n",
              "2563 25-34 Female 3                       3        10         20.0000000  \n",
              "2564 25-34 Female 4                       3        10         40.0000000  \n",
              "2565 45-54 Female 1                       5        10         10.0000000  \n",
              "2566 55-64 Female 3                       6        10         25.0000000  \n",
              "2567 35-44 Male   3                       4        10         40.0000000  \n",
              "2568 25-34 Female 3                       3        10         40.0000000  \n",
              "2569 35-44 Female 1                       4        10         40.0000000  \n",
              "2570 35-44 Male   3                       4         9         40.0000000  \n",
              "2571 45-54 Female 3                       5        -1          5.0000000  \n",
              "2572 25-34 Female 3                       3        10         10.0000000  \n",
              "2573 25-34 NA     4                       3        -1         40.0000000  \n",
              "2574 25-34 Female 2                       3        10         10.0000000  \n",
              "2575 18-24 Female 4                       2        10         10.0000000  \n",
              "2576 35-44 NA     3                       4        -1          0.1666667  \n",
              "2577 18-24 Female 3                       2        10         10.0000000  \n",
              "2578 25-34 Male   1                       3        10         40.0000000  \n",
              "2579 35-44 Male   4                       4        10         10.0000000  "
            ]
          },
          "metadata": {}
        }
      ]
    },
    {
      "cell_type": "markdown",
      "source": [
        "## Análisis de datos\n",
        "\n"
      ],
      "metadata": {
        "id": "68pVjfgJmVRE"
      }
    },
    {
      "cell_type": "markdown",
      "source": [
        "### Análisis general del estado de los datos"
      ],
      "metadata": {
        "id": "M9UcK6KynM-c"
      }
    },
    {
      "cell_type": "code",
      "source": [
        "# Agregamos una columna calculada a partir de la columna NPS Score.\n",
        "# El objetivo es determinar si los clientes son promotores, detractores o pasivos\n",
        "datos$cat <- cut(datos$nps_score, \n",
        "                breaks = c(-1, 6, 8, 10), \n",
        "                labels = c(\"Detractor\", \"Passive\", \"Promoter\"))"
      ],
      "metadata": {
        "id": "uTz3ytzOmTHJ"
      },
      "execution_count": 6,
      "outputs": []
    },
    {
      "cell_type": "code",
      "source": [
        "# Chequeamos en general el estado de los datos\n",
        "summary(datos)"
      ],
      "metadata": {
        "colab": {
          "base_uri": "https://localhost:8080/",
          "height": 712
        },
        "id": "j6MMYUgOnDTS",
        "outputId": "46ada657-b035-4c33-885c-33bfb65d3338"
      },
      "execution_count": 7,
      "outputs": [
        {
          "output_type": "display_data",
          "data": {
            "text/plain": [
              "       x           response_id       response_status     total_amount   \n",
              " Min.   :   0.0   Min.   :11706300   Length:2579        Min.   :   1.0  \n",
              " 1st Qu.: 644.5   1st Qu.:12013070   Class :character   1st Qu.: 120.0  \n",
              " Median :1289.0   Median :12207363   Mode  :character   Median : 240.0  \n",
              " Mean   :1289.0   Mean   :12271973                      Mean   : 309.7  \n",
              " 3rd Qu.:1933.5   3rd Qu.:12528042                      3rd Qu.: 480.0  \n",
              " Max.   :2578.0   Max.   :13777359                      Max.   :5000.0  \n",
              "                                                                        \n",
              " amount_per_gift   pledge_frequency   source_type        plg_user_group    \n",
              " Min.   :   1.00   Length:2579        Length:2579        Length:2579       \n",
              " 1st Qu.:  15.00   Class :character   Class :character   Class :character  \n",
              " Median :  25.00   Mode  :character   Mode  :character   Mode  :character  \n",
              " Mean   :  56.58                                                           \n",
              " 3rd Qu.:  40.00                                                           \n",
              " Max.   :5000.00                                                           \n",
              "                                                                           \n",
              " how_long_listening     age               gender         \n",
              " Length:2579        Length:2579        Length:2579       \n",
              " Class :character   Class :character   Class :character  \n",
              " Mode  :character   Mode  :character   Mode  :character  \n",
              "                                                         \n",
              "                                                         \n",
              "                                                         \n",
              "                                                         \n",
              " how_long_listening_code    age_code      nps_score      monthly_equiv     \n",
              " Min.   :1.000           Min.   :1.00   Min.   :-1.000   Min.   :  0.0833  \n",
              " 1st Qu.:2.000           1st Qu.:3.00   1st Qu.: 9.000   1st Qu.: 10.0000  \n",
              " Median :3.000           Median :4.00   Median :10.000   Median : 20.0000  \n",
              " Mean   :3.193           Mean   :3.96   Mean   : 8.439   Mean   : 25.8114  \n",
              " 3rd Qu.:4.000           3rd Qu.:5.00   3rd Qu.:10.000   3rd Qu.: 40.0000  \n",
              " Max.   :7.000           Max.   :8.00   Max.   :10.000   Max.   :416.6667  \n",
              "                         NA's   :14                                        \n",
              "        cat      \n",
              " Detractor:  42  \n",
              " Passive  : 159  \n",
              " Promoter :2080  \n",
              " NA's     : 298  \n",
              "                 \n",
              "                 \n",
              "                 "
            ]
          },
          "metadata": {}
        }
      ]
    },
    {
      "cell_type": "markdown",
      "source": [
        "### Preguntas a resolver"
      ],
      "metadata": {
        "id": "QO-mQWUznXYm"
      }
    },
    {
      "cell_type": "markdown",
      "source": [
        "#### Pregunta 1: ¿Qué podemos observar de los datos?"
      ],
      "metadata": {
        "id": "EG4_Q336ncca"
      }
    },
    {
      "cell_type": "code",
      "source": [
        "# Luego de verificar los datos, quitamos aquellos en los cuales el NPS Score es\n",
        "# vacío o -1\n",
        "datos <- with(datos, \n",
        "             datos[!(nps_score == -1 | is.na(nps_score)), ])"
      ],
      "metadata": {
        "id": "3c7vCRyknh6_"
      },
      "execution_count": 8,
      "outputs": []
    },
    {
      "cell_type": "code",
      "source": [
        "# Quitamos aquellas filas reemplazando el dataset (2281 registros)\n",
        "datos <- datos %>% drop_na(cat)"
      ],
      "metadata": {
        "id": "FC9JcxG2nlVb"
      },
      "execution_count": 9,
      "outputs": []
    },
    {
      "cell_type": "markdown",
      "source": [
        "##### Preparando el cálculo para el NPS"
      ],
      "metadata": {
        "id": "ZkpxR0Bhn0Sa"
      }
    },
    {
      "cell_type": "code",
      "source": [
        "# Verificando la frecuencia de los datos, en base a la columna NPS Score\n",
        "# Frequency table\n",
        "prop.table(table(datos$nps_score))"
      ],
      "metadata": {
        "colab": {
          "base_uri": "https://localhost:8080/",
          "height": 104
        },
        "id": "4IEd2hJ0nvmJ",
        "outputId": "f9b4b613-eff3-4a52-8dfa-9193566c6454"
      },
      "execution_count": 10,
      "outputs": [
        {
          "output_type": "display_data",
          "data": {
            "text/plain": [
              "\n",
              "           0            1            2            3            4            5 \n",
              "0.0013152126 0.0017536168 0.0004384042 0.0008768084 0.0008768084 0.0065760631 \n",
              "           6            7            8            9           10 \n",
              "0.0065760631 0.0179745726 0.0517316966 0.0670758439 0.8448049101 "
            ]
          },
          "metadata": {}
        }
      ]
    },
    {
      "cell_type": "code",
      "source": [
        "# A manera de clarificar el estado, lo hacemos en términos de promotores, \n",
        "# detractores o pasivos\n",
        "summary(npc(datos$nps_score))"
      ],
      "metadata": {
        "colab": {
          "base_uri": "https://localhost:8080/",
          "height": 34
        },
        "id": "vTSQ1VYtn3Fq",
        "outputId": "e7f1e47b-e4e8-419c-ef9a-2b953a853146"
      },
      "execution_count": 11,
      "outputs": [
        {
          "output_type": "display_data",
          "data": {
            "text/html": [
              "<style>\n",
              ".dl-inline {width: auto; margin:0; padding: 0}\n",
              ".dl-inline>dt, .dl-inline>dd {float: none; width: auto; display: inline-block}\n",
              ".dl-inline>dt::after {content: \":\\0020\"; padding-right: .5ex}\n",
              ".dl-inline>dt:not(:first-of-type) {padding-left: .5ex}\n",
              "</style><dl class=dl-inline><dt>Detractor</dt><dd>42</dd><dt>Passive</dt><dd>159</dd><dt>Promoter</dt><dd>2080</dd></dl>\n"
            ],
            "text/markdown": "Detractor\n:   42Passive\n:   159Promoter\n:   2080\n\n",
            "text/latex": "\\begin{description*}\n\\item[Detractor] 42\n\\item[Passive] 159\n\\item[Promoter] 2080\n\\end{description*}\n",
            "text/plain": [
              "Detractor   Passive  Promoter \n",
              "       42       159      2080 "
            ]
          },
          "metadata": {}
        }
      ]
    },
    {
      "cell_type": "code",
      "source": [
        "# Y generamos una tabla para representar los datos en base a las calificaciones\n",
        "table(datos$nps_score, npc(datos$nps_score))"
      ],
      "metadata": {
        "colab": {
          "base_uri": "https://localhost:8080/",
          "height": 243
        },
        "id": "dzGbnQTan5rQ",
        "outputId": "168bd35b-a0d8-4e7c-f6a7-953089a8a7fb"
      },
      "execution_count": 12,
      "outputs": [
        {
          "output_type": "display_data",
          "data": {
            "text/plain": [
              "    \n",
              "     Detractor Passive Promoter\n",
              "  0          3       0        0\n",
              "  1          4       0        0\n",
              "  2          1       0        0\n",
              "  3          2       0        0\n",
              "  4          2       0        0\n",
              "  5         15       0        0\n",
              "  6         15       0        0\n",
              "  7          0      41        0\n",
              "  8          0     118        0\n",
              "  9          0       0      153\n",
              "  10         0       0     1927"
            ]
          },
          "metadata": {}
        }
      ]
    },
    {
      "cell_type": "code",
      "source": [
        "# Gráficamente en un histograma\n",
        "hist(datos$nps_score, \n",
        "     breaks=-1:10, col=c(rep(\"red\",7), \n",
        "                         rep(\"yellow\",2), \n",
        "                         rep(\"green\", 2)))\n"
      ],
      "metadata": {
        "colab": {
          "base_uri": "https://localhost:8080/",
          "height": 437
        },
        "id": "XeF_gp8Un8EF",
        "outputId": "6ceb3234-cb11-483e-af28-33b9ddc3666f"
      },
      "execution_count": 13,
      "outputs": [
        {
          "output_type": "display_data",
          "data": {
            "text/plain": [
              "Plot with title “Histogram of datos$nps_score”"
            ],
            "image/png": "[encoded data removed]"
          },
          "metadata": {
            "image/png": {
              "width": 420,
              "height": 420
            }
          }
        }
      ]
    },
    {
      "cell_type": "code",
      "source": [
        "# Otra opción en un gráfico de barras\n",
        "barplot(prop.table(table(datos$nps_score)),\n",
        "        col=c(rep(\"red\",7), \n",
        "              rep(\"yellow\",2), \n",
        "              rep(\"green\", 2)))"
      ],
      "metadata": {
        "colab": {
          "base_uri": "https://localhost:8080/",
          "height": 437
        },
        "id": "x2GyQQ83n-a3",
        "outputId": "8cf5e55a-c70b-4e6a-e284-d81e3d98a47d"
      },
      "execution_count": 14,
      "outputs": [
        {
          "output_type": "display_data",
          "data": {
            "text/plain": [
              "plot without title"
            ],
            "image/png": "[encoded data removed]"
          },
          "metadata": {
            "image/png": {
              "width": 420,
              "height": 420
            }
          }
        }
      ]
    },
    {
      "cell_type": "markdown",
      "source": [
        "#### Pregunta 2: ¿Qué pudes observar cuando analizamos las edades?"
      ],
      "metadata": {
        "id": "qlpXCf8ooL1a"
      }
    },
    {
      "cell_type": "code",
      "source": [
        "# Análisis por grupo etario agregando los datos\n",
        "edades <- aggregate(datos$nps_score, list(datos$age), FUN= mean)"
      ],
      "metadata": {
        "id": "Bf8XB7EWoRI2"
      },
      "execution_count": 15,
      "outputs": []
    },
    {
      "cell_type": "code",
      "source": [
        "edades$Group.1 <- factor(edades$Group.1, \n",
        "                         levels = c(\"18-24\",\n",
        "                                    \"25-34\",\n",
        "                                    \"35-44\",\n",
        "                                    \"45-54\",\n",
        "                                    \"55-64\",\n",
        "                                    \"65-74\",\n",
        "                                    \"75+\"))"
      ],
      "metadata": {
        "id": "3S9NhzBWoTRz"
      },
      "execution_count": 16,
      "outputs": []
    },
    {
      "cell_type": "code",
      "source": [
        "# Analizamos los datos por edad\n",
        "ggplot(edades) + geom_col(aes(x=as.factor(Group.1), y=x, fill= as.factor(Group.1)))  + xlab(\"Edades\") + ylab(\"NPS\") + geom_text(aes(x=as.factor(Group.1), y=x, label=round(x,2)), vjust = 0.5, hjust = 1.5) + coord_flip() + scale_fill_brewer(\"Grupo etario\")\n"
      ],
      "metadata": {
        "colab": {
          "base_uri": "https://localhost:8080/",
          "height": 437
        },
        "id": "8PsZ7fzn5DZk",
        "outputId": "04acd780-eb84-410e-9f9c-c98e218a17e8"
      },
      "execution_count": 26,
      "outputs": [
        {
          "output_type": "display_data",
          "data": {
            "text/plain": [
              "plot without title"
            ],
            "image/png": "[encoded data removed]"
          },
          "metadata": {
            "image/png": {
              "width": 420,
              "height": 420
            }
          }
        }
      ]
    },
    {
      "cell_type": "code",
      "source": [
        "# Cálculo del NPS general\n",
        "nps(datos$nps_score)"
      ],
      "metadata": {
        "colab": {
          "base_uri": "https://localhost:8080/",
          "height": 34
        },
        "id": "4XDXUhDNo6_u",
        "outputId": "93e3ea59-efef-4264-8f8e-8794905574bb"
      },
      "execution_count": 18,
      "outputs": [
        {
          "output_type": "display_data",
          "data": {
            "text/html": [
              "0.893467777290662"
            ],
            "text/markdown": "0.893467777290662",
            "text/latex": "0.893467777290662",
            "text/plain": [
              "[1] 0.8934678"
            ]
          },
          "metadata": {}
        }
      ]
    },
    {
      "cell_type": "code",
      "source": [
        "# Error estándar (Standard error)\n",
        "nps_se(datos$nps_score)"
      ],
      "metadata": {
        "colab": {
          "base_uri": "https://localhost:8080/",
          "height": 34
        },
        "id": "ObIvx-tWo9Zo",
        "outputId": "c6bae3fa-50bd-4fb4-b8b7-2efff21fadd6"
      },
      "execution_count": 19,
      "outputs": [
        {
          "output_type": "display_data",
          "data": {
            "text/html": [
              "0.00760745215304667"
            ],
            "text/markdown": "0.00760745215304667",
            "text/latex": "0.00760745215304667",
            "text/plain": [
              "[1] 0.007607452"
            ]
          },
          "metadata": {}
        }
      ]
    },
    {
      "cell_type": "code",
      "source": [
        "# Varianza\n",
        "nps_var(datos$nps_score)"
      ],
      "metadata": {
        "colab": {
          "base_uri": "https://localhost:8080/",
          "height": 34
        },
        "id": "coZyyZNspDJW",
        "outputId": "3d787e88-e825-4344-9a9e-ccf1f6e0c1d2"
      },
      "execution_count": 20,
      "outputs": [
        {
          "output_type": "display_data",
          "data": {
            "text/html": [
              "0.1320090617631"
            ],
            "text/markdown": "0.1320090617631",
            "text/latex": "0.1320090617631",
            "text/plain": [
              "[1] 0.1320091"
            ]
          },
          "metadata": {}
        }
      ]
    },
    {
      "cell_type": "markdown",
      "source": [
        "## Pregunta 3: ¿Es mi muestra lo suficientemente grande?\n",
        "¿Es significativa esta fluctuación en las puntuaciones de NPS?"
      ],
      "metadata": {
        "id": "WIwvWAby4aI6"
      }
    },
    {
      "cell_type": "code",
      "source": [
        "nps_test_(datos$nps_score, y = NULL, test = \"wald\", conf = 0.95, pseudo_observations = c(0.75, 1.5, 0.75))"
      ],
      "metadata": {
        "colab": {
          "base_uri": "https://localhost:8080/",
          "height": 156
        },
        "id": "e8Ij4KC0pIGG",
        "outputId": "bc10f417-19af-4fbf-8e7f-1c57e63fabf6"
      },
      "execution_count": 56,
      "outputs": [
        {
          "output_type": "display_data",
          "data": {
            "text/plain": [
              "One sample Net Promoter Score Z test\n",
              "\n",
              "NPS of x: 0 (n = 22063)\n",
              "\n",
              "Standard error of x: 0 \n",
              "Confidence level: 0.95 \n",
              "p value: 1 \n",
              "Confidence interval: -0.0003972817 0.0003972817 \n"
            ]
          },
          "metadata": {}
        }
      ]
    },
    {
      "cell_type": "markdown",
      "source": [
        "Para responder a estas preguntas, ejecutamos la prueba Wald que nos permite medir la significancia del NPS."
      ],
      "metadata": {
        "id": "fiyAWrXK7lM4"
      }
    },
    {
      "cell_type": "code",
      "source": [
        "nps_test_(datos$nps_score, y = NULL, test = \"wald\", conf = 0.95)"
      ],
      "metadata": {
        "colab": {
          "base_uri": "https://localhost:8080/",
          "height": 156
        },
        "id": "NilJtk_eABKu",
        "outputId": "080d4b6a-f545-4565-ce3f-0a926bfc702e"
      },
      "execution_count": 83,
      "outputs": [
        {
          "output_type": "display_data",
          "data": {
            "text/plain": [
              "One sample Net Promoter Score Z test\n",
              "\n",
              "NPS of x: 0 (n = 22063)\n",
              "\n",
              "Standard error of x: 0 \n",
              "Confidence level: 0.95 \n",
              "p value: 1 \n",
              "Confidence interval: -0.0003972817 0.0003972817 \n"
            ]
          },
          "metadata": {}
        }
      ]
    },
    {
      "cell_type": "markdown",
      "source": [
        "*One sample Net Promoter Score Z test*\n",
        "\n",
        "*NPS of x: 0.89 (n = 2281)*\n",
        "\n",
        "*Standard error of x: 0.008*\n",
        "\n",
        "*Confidence level: 0.95*\n",
        "\n",
        "*p value: 0*\n",
        "\n",
        "*Confidence interval: 0.9083781 0.8785574*"
      ],
      "metadata": {
        "id": "yNc1oPbGILuh"
      }
    },
    {
      "cell_type": "code",
      "source": [
        "install.packages(\"aod\")"
      ],
      "metadata": {
        "colab": {
          "base_uri": "https://localhost:8080/"
        },
        "id": "i0qX1v8GMx8T",
        "outputId": "8789d7c4-da62-4dce-f59e-b4dc591688c7"
      },
      "execution_count": 67,
      "outputs": [
        {
          "output_type": "stream",
          "name": "stderr",
          "text": [
            "Installing package into ‘/usr/local/lib/R/site-library’\n",
            "(as ‘lib’ is unspecified)\n",
            "\n"
          ]
        }
      ]
    },
    {
      "cell_type": "code",
      "source": [
        "# Cargar el paquete aod\n",
        "library(aod)"
      ],
      "metadata": {
        "id": "AFMEA3LCZPCB"
      },
      "execution_count": 78,
      "outputs": []
    },
    {
      "cell_type": "code",
      "source": [
        "datos$nps_score <- ifelse(datos$nps_score < 0, 0, datos$nps_score)\n",
        "datos$nps_score <- ifelse(datos$nps_score > 10, 10, datos$nps_score)"
      ],
      "metadata": {
        "id": "SShefimPaOt-"
      },
      "execution_count": 81,
      "outputs": []
    },
    {
      "cell_type": "code",
      "source": [
        "datos$nps_score <- as.numeric(datos$nps_score)"
      ],
      "metadata": {
        "id": "vIYBpIKcbjHb"
      },
      "execution_count": 91,
      "outputs": []
    },
    {
      "cell_type": "code",
      "source": [
        "datos$nps_score <- factor(ifelse(datos$nps_score >= 9, \"promotor\", ifelse(datos$nps_score >= 7, \"pasivo\", \"detractor\")))\n",
        "\n",
        "# Ajustar el modelo de regresión logística\n",
        "modelo <- glm(nps_score ~ 1, data = datos, family = binomial)\n"
      ],
      "metadata": {
        "id": "N-9_v9s6I-Ok"
      },
      "execution_count": 110,
      "outputs": []
    },
    {
      "cell_type": "code",
      "source": [
        "# Realizar el test Wald para el coeficiente del NPS\n",
        "test_wald <- wald.test(b = matrix(coef(modelo), ncol = 1), Sigma = vcov(modelo), Terms = 1:1)"
      ],
      "metadata": {
        "id": "FPb7c4zba2ia"
      },
      "execution_count": 120,
      "outputs": []
    },
    {
      "cell_type": "code",
      "source": [
        "# Imprimir los resultados del test\n",
        "print(test_wald)"
      ],
      "metadata": {
        "colab": {
          "base_uri": "https://localhost:8080/"
        },
        "id": "MMpEXWo-k3nc",
        "outputId": "e2c522ae-4ccc-4e51-bdf2-5b7497cdd03d"
      },
      "execution_count": 112,
      "outputs": [
        {
          "output_type": "stream",
          "name": "stdout",
          "text": [
            "Wald test:\n",
            "----------\n",
            "\n",
            "Chi-squared test:\n",
            "X2 = 651.9, df = 1, P(> X2) = 0.0\n"
          ]
        }
      ]
    },
    {
      "cell_type": "code",
      "source": [
        "# Calcular el valor NPS\n",
        "NPS <- round((mean(datos$nps_score == \"promotor\") - mean(datos$nps_score == \"detractor\")) * 100)\n",
        "print(NPS)"
      ],
      "metadata": {
        "colab": {
          "base_uri": "https://localhost:8080/"
        },
        "id": "1fN9t8nzk-ug",
        "outputId": "a169031e-d5a0-4e29-f786-9895bcac5b3b"
      },
      "execution_count": 113,
      "outputs": [
        {
          "output_type": "stream",
          "name": "stdout",
          "text": [
            "[1] 89\n"
          ]
        }
      ]
    },
    {
      "cell_type": "markdown",
      "source": [
        "#Conclusión\n",
        "El resultado del test Wald que indica que el estadístico de prueba Chi-cuadrado es 651.9 con un grado de libertad (df) de 1 y un p-valor de 0.0.\n",
        "\n",
        "El p-valor es la probabilidad de que el resultado observado o uno más extremo se obtenga si la hipótesis nula es verdadera. En este caso, como el p-valor es muy cercano a cero, se puede concluir que el coeficiente de NPS es significativamente diferente de cero. En otras palabras, podemos rechazar la hipótesis nula de que el coeficiente de NPS es igual a cero, **lo que indica que NPS tiene un efecto significativo en la variable de respuesta**.\n",
        "\n",
        "El valor de Chi-cuadrado y el grado de libertad se utilizan para calcular el p-valor del test. En general, un valor alto de Chi-cuadrado y un bajo valor de p-valor indican una fuerte evidencia en contra de la hipótesis nula. En este caso, el valor de Chi-cuadrado es bastante alto, lo que sugiere que hay una fuerte evidencia para rechazar la hipótesis nula.\n",
        "\n",
        "En resumen, el resultado del test Wald sugiere que el coeficiente de NPS es significativamente diferente de cero y tiene un efecto significativo en la variable de respuesta."
      ],
      "metadata": {
        "id": "h3AOPy4ZnEk7"
      }
    }
  ]
}