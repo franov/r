{
  "nbformat": 4,
  "nbformat_minor": 0,
  "metadata": {
    "colab": {
      "name": "IRIS.ipynb",
      "provenance": [],
      "toc_visible": true,
      "authorship_tag": "ABX9TyPI000lczjQ/hQDjHhfUd55",
      "include_colab_link": true
    },
    "kernelspec": {
      "name": "ir",
      "display_name": "R"
    },
    "language_info": {
      "name": "R"
    }
  },
  "cells": [
    {
      "cell_type": "markdown",
      "metadata": {
        "id": "view-in-github",
        "colab_type": "text"
      },
      "source": [
        "<a href=\"https://colab.research.google.com/github/franov/r/blob/main/IRIS.ipynb\" target=\"_parent\"><img src=\"https://colab.research.google.com/assets/colab-badge.svg\" alt=\"Open In Colab\"/></a>"
      ]
    },
    {
      "cell_type": "markdown",
      "source": [
        "# Utilizando R desde GitHub\n",
        "Leyendo el archivo de datos **iris.csv** desde GitHub para utilizarlo dentro de Colab con funciones sencillas en R."
      ],
      "metadata": {
        "id": "lVTNhhvNGDCC"
      }
    },
    {
      "cell_type": "markdown",
      "source": [
        "## Montando librerías para leer archivos desde Github\n",
        "Se cargan las librerías necesarias para realizar la lectura de archivos desde R"
      ],
      "metadata": {
        "id": "_rZrRFfpI3Kz"
      }
    },
    {
      "cell_type": "code",
      "source": [
        "library(readr)  # for read_csv\n",
        "library(knitr)  # for kable"
      ],
      "metadata": {
        "id": "Ls7R_6YmGDoK"
      },
      "execution_count": null,
      "outputs": []
    },
    {
      "cell_type": "markdown",
      "source": [
        "Se carga el archivo en la variable **iris** desde GitHub"
      ],
      "metadata": {
        "id": "chsTITsAGyD6"
      }
    },
    {
      "cell_type": "code",
      "source": [
        "file <- \"https://raw.githubusercontent.com/franov/r/main/iris.csv\"\n",
        "iris <- read.table(file, sep=\";\", header=TRUE)"
      ],
      "metadata": {
        "id": "CnwFSL1SJRqP"
      },
      "execution_count": null,
      "outputs": []
    },
    {
      "cell_type": "markdown",
      "source": [
        "## Comienzo del análisis de datos"
      ],
      "metadata": {
        "id": "QZMMlm3DF3Ir"
      }
    },
    {
      "cell_type": "markdown",
      "source": [
        "### Lectura del encabezado del archivo"
      ],
      "metadata": {
        "id": "cMobWz-jHjCQ"
      }
    },
    {
      "cell_type": "code",
      "source": [
        "head(iris)"
      ],
      "metadata": {
        "colab": {
          "base_uri": "https://localhost:8080/",
          "height": 286
        },
        "id": "S2CoLQd5GPwg",
        "outputId": "d007e5fd-9df9-4e6e-9836-d6d7f80a2122"
      },
      "execution_count": null,
      "outputs": [
        {
          "output_type": "display_data",
          "data": {
            "text/html": [
              "<table class=\"dataframe\">\n",
              "<caption>A data.frame: 6 × 5</caption>\n",
              "<thead>\n",
              "\t<tr><th></th><th scope=col>largo.sepalo</th><th scope=col>ancho.sepalo</th><th scope=col>largo.petalo</th><th scope=col>ancho.petalo</th><th scope=col>especie</th></tr>\n",
              "\t<tr><th></th><th scope=col>&lt;dbl&gt;</th><th scope=col>&lt;dbl&gt;</th><th scope=col>&lt;dbl&gt;</th><th scope=col>&lt;dbl&gt;</th><th scope=col>&lt;chr&gt;</th></tr>\n",
              "</thead>\n",
              "<tbody>\n",
              "\t<tr><th scope=row>1</th><td>5.1</td><td>3.5</td><td>1.4</td><td>0.2</td><td>setosa</td></tr>\n",
              "\t<tr><th scope=row>2</th><td>4.9</td><td>3.0</td><td>1.4</td><td>0.2</td><td>setosa</td></tr>\n",
              "\t<tr><th scope=row>3</th><td>4.7</td><td>3.2</td><td>1.3</td><td>0.2</td><td>setosa</td></tr>\n",
              "\t<tr><th scope=row>4</th><td>4.6</td><td>3.1</td><td>1.5</td><td>0.2</td><td>setosa</td></tr>\n",
              "\t<tr><th scope=row>5</th><td>5.0</td><td>3.6</td><td>1.4</td><td>0.2</td><td>setosa</td></tr>\n",
              "\t<tr><th scope=row>6</th><td>5.4</td><td>3.9</td><td>1.7</td><td>0.4</td><td>setosa</td></tr>\n",
              "</tbody>\n",
              "</table>\n"
            ],
            "text/markdown": "\nA data.frame: 6 × 5\n\n| <!--/--> | largo.sepalo &lt;dbl&gt; | ancho.sepalo &lt;dbl&gt; | largo.petalo &lt;dbl&gt; | ancho.petalo &lt;dbl&gt; | especie &lt;chr&gt; |\n|---|---|---|---|---|---|\n| 1 | 5.1 | 3.5 | 1.4 | 0.2 | setosa |\n| 2 | 4.9 | 3.0 | 1.4 | 0.2 | setosa |\n| 3 | 4.7 | 3.2 | 1.3 | 0.2 | setosa |\n| 4 | 4.6 | 3.1 | 1.5 | 0.2 | setosa |\n| 5 | 5.0 | 3.6 | 1.4 | 0.2 | setosa |\n| 6 | 5.4 | 3.9 | 1.7 | 0.4 | setosa |\n\n",
            "text/latex": "A data.frame: 6 × 5\n\\begin{tabular}{r|lllll}\n  & largo.sepalo & ancho.sepalo & largo.petalo & ancho.petalo & especie\\\\\n  & <dbl> & <dbl> & <dbl> & <dbl> & <chr>\\\\\n\\hline\n\t1 & 5.1 & 3.5 & 1.4 & 0.2 & setosa\\\\\n\t2 & 4.9 & 3.0 & 1.4 & 0.2 & setosa\\\\\n\t3 & 4.7 & 3.2 & 1.3 & 0.2 & setosa\\\\\n\t4 & 4.6 & 3.1 & 1.5 & 0.2 & setosa\\\\\n\t5 & 5.0 & 3.6 & 1.4 & 0.2 & setosa\\\\\n\t6 & 5.4 & 3.9 & 1.7 & 0.4 & setosa\\\\\n\\end{tabular}\n",
            "text/plain": [
              "  largo.sepalo ancho.sepalo largo.petalo ancho.petalo especie\n",
              "1 5.1          3.5          1.4          0.2          setosa \n",
              "2 4.9          3.0          1.4          0.2          setosa \n",
              "3 4.7          3.2          1.3          0.2          setosa \n",
              "4 4.6          3.1          1.5          0.2          setosa \n",
              "5 5.0          3.6          1.4          0.2          setosa \n",
              "6 5.4          3.9          1.7          0.4          setosa "
            ]
          },
          "metadata": {}
        }
      ]
    },
    {
      "cell_type": "markdown",
      "source": [
        "### Conociendo la estructura de la base de datos"
      ],
      "metadata": {
        "id": "DmSzTpHyMUUp"
      }
    },
    {
      "cell_type": "code",
      "source": [
        "str(iris)"
      ],
      "metadata": {
        "colab": {
          "base_uri": "https://localhost:8080/"
        },
        "id": "tGg49P-KMYKT",
        "outputId": "7bdf9729-7920-488c-e8eb-7b0ff0890272"
      },
      "execution_count": null,
      "outputs": [
        {
          "output_type": "stream",
          "name": "stdout",
          "text": [
            "'data.frame':\t150 obs. of  5 variables:\n",
            " $ largo.sepalo: num  5.1 4.9 4.7 4.6 5 5.4 4.6 5 4.4 4.9 ...\n",
            " $ ancho.sepalo: num  3.5 3 3.2 3.1 3.6 3.9 3.4 3.4 2.9 3.1 ...\n",
            " $ largo.petalo: num  1.4 1.4 1.3 1.5 1.4 1.7 1.4 1.5 1.4 1.5 ...\n",
            " $ ancho.petalo: num  0.2 0.2 0.2 0.2 0.2 0.4 0.3 0.2 0.2 0.1 ...\n",
            " $ especie     : chr  \"setosa\" \"setosa\" \"setosa\" \"setosa\" ...\n"
          ]
        }
      ]
    },
    {
      "cell_type": "markdown",
      "source": [
        "## Estadísticos"
      ],
      "metadata": {
        "id": "wRzBeAIXLKfO"
      }
    },
    {
      "cell_type": "markdown",
      "source": [
        "### Desviación estándar"
      ],
      "metadata": {
        "id": "P91Qi41TIRnB"
      }
    },
    {
      "cell_type": "code",
      "source": [
        "sd(iris$largo.sepalo)"
      ],
      "metadata": {
        "colab": {
          "base_uri": "https://localhost:8080/",
          "height": 34
        },
        "id": "MNLr6XuCLPmX",
        "outputId": "6b0aa366-e639-4201-9d7d-057c4067d895"
      },
      "execution_count": null,
      "outputs": [
        {
          "output_type": "display_data",
          "data": {
            "text/html": [
              "0.828066127977863"
            ],
            "text/markdown": "0.828066127977863",
            "text/latex": "0.828066127977863",
            "text/plain": [
              "[1] 0.8280661"
            ]
          },
          "metadata": {}
        }
      ]
    },
    {
      "cell_type": "code",
      "source": [
        "sd(iris$ancho.sepalo)"
      ],
      "metadata": {
        "colab": {
          "base_uri": "https://localhost:8080/",
          "height": 34
        },
        "id": "d-7CwgTsLvIy",
        "outputId": "6b297072-c667-45cf-d869-dec70ba2273a"
      },
      "execution_count": null,
      "outputs": [
        {
          "output_type": "display_data",
          "data": {
            "text/html": [
              "0.435866284936698"
            ],
            "text/markdown": "0.435866284936698",
            "text/latex": "0.435866284936698",
            "text/plain": [
              "[1] 0.4358663"
            ]
          },
          "metadata": {}
        }
      ]
    },
    {
      "cell_type": "code",
      "source": [
        "sd(iris$largo.petalo)"
      ],
      "metadata": {
        "colab": {
          "base_uri": "https://localhost:8080/",
          "height": 34
        },
        "id": "6sgS4-diLy5Y",
        "outputId": "44428b54-1bd0-4cb1-b288-8b9b0314c722"
      },
      "execution_count": null,
      "outputs": [
        {
          "output_type": "display_data",
          "data": {
            "text/html": [
              "1.76529823325947"
            ],
            "text/markdown": "1.76529823325947",
            "text/latex": "1.76529823325947",
            "text/plain": [
              "[1] 1.765298"
            ]
          },
          "metadata": {}
        }
      ]
    },
    {
      "cell_type": "code",
      "source": [
        "sd(iris$ancho.petalo)"
      ],
      "metadata": {
        "colab": {
          "base_uri": "https://localhost:8080/",
          "height": 34
        },
        "id": "UnftyIBAL3_l",
        "outputId": "9e3f1abe-2960-41b8-e3b7-427200bef336"
      },
      "execution_count": null,
      "outputs": [
        {
          "output_type": "display_data",
          "data": {
            "text/html": [
              "0.762237668960347"
            ],
            "text/markdown": "0.762237668960347",
            "text/latex": "0.762237668960347",
            "text/plain": [
              "[1] 0.7622377"
            ]
          },
          "metadata": {}
        }
      ]
    },
    {
      "cell_type": "markdown",
      "source": [
        "### Varianza"
      ],
      "metadata": {
        "id": "aAGpYJe8MeGc"
      }
    },
    {
      "cell_type": "code",
      "source": [
        "var(iris$largo.sepalo)"
      ],
      "metadata": {
        "colab": {
          "base_uri": "https://localhost:8080/",
          "height": 34
        },
        "id": "4wiV7lVsMhsG",
        "outputId": "b6f2bda0-7de6-495e-e4b3-70933bd7fabd"
      },
      "execution_count": null,
      "outputs": [
        {
          "output_type": "display_data",
          "data": {
            "text/html": [
              "0.685693512304251"
            ],
            "text/markdown": "0.685693512304251",
            "text/latex": "0.685693512304251",
            "text/plain": [
              "[1] 0.6856935"
            ]
          },
          "metadata": {}
        }
      ]
    },
    {
      "cell_type": "code",
      "source": [
        "var(iris$ancho.sepalo)"
      ],
      "metadata": {
        "colab": {
          "base_uri": "https://localhost:8080/",
          "height": 34
        },
        "id": "JCIXq7KyMmth",
        "outputId": "3e710750-7f24-4ac3-bd35-d01bfba7fbdb"
      },
      "execution_count": null,
      "outputs": [
        {
          "output_type": "display_data",
          "data": {
            "text/html": [
              "0.189979418344519"
            ],
            "text/markdown": "0.189979418344519",
            "text/latex": "0.189979418344519",
            "text/plain": [
              "[1] 0.1899794"
            ]
          },
          "metadata": {}
        }
      ]
    },
    {
      "cell_type": "code",
      "source": [
        "var(iris$largo.petalo)"
      ],
      "metadata": {
        "colab": {
          "base_uri": "https://localhost:8080/",
          "height": 34
        },
        "id": "KYoXLUHoMoh9",
        "outputId": "fff6660d-2bed-4f18-ff4f-9e9a179b848d"
      },
      "execution_count": null,
      "outputs": [
        {
          "output_type": "display_data",
          "data": {
            "text/html": [
              "3.11627785234899"
            ],
            "text/markdown": "3.11627785234899",
            "text/latex": "3.11627785234899",
            "text/plain": [
              "[1] 3.116278"
            ]
          },
          "metadata": {}
        }
      ]
    },
    {
      "cell_type": "code",
      "source": [
        "var(iris$ancho.petalo)"
      ],
      "metadata": {
        "colab": {
          "base_uri": "https://localhost:8080/",
          "height": 34
        },
        "id": "LH84WNwpMvZX",
        "outputId": "dfbb6f6d-8fd2-4a26-a870-08f1f27d3097"
      },
      "execution_count": null,
      "outputs": [
        {
          "output_type": "display_data",
          "data": {
            "text/html": [
              "0.581006263982103"
            ],
            "text/markdown": "0.581006263982103",
            "text/latex": "0.581006263982103",
            "text/plain": [
              "[1] 0.5810063"
            ]
          },
          "metadata": {}
        }
      ]
    },
    {
      "cell_type": "markdown",
      "source": [
        "### Comando QUANTILE que entrega los quinteles para las variables"
      ],
      "metadata": {
        "id": "38FB2O9lPzoU"
      }
    },
    {
      "cell_type": "code",
      "source": [
        "quantile(iris$largo.sepalo)"
      ],
      "metadata": {
        "colab": {
          "base_uri": "https://localhost:8080/",
          "height": 34
        },
        "id": "QjWdl0cvQgeN",
        "outputId": "f2423ddb-36aa-47ae-8745-a26b535d6bb2"
      },
      "execution_count": null,
      "outputs": [
        {
          "output_type": "display_data",
          "data": {
            "text/html": [
              "<style>\n",
              ".dl-inline {width: auto; margin:0; padding: 0}\n",
              ".dl-inline>dt, .dl-inline>dd {float: none; width: auto; display: inline-block}\n",
              ".dl-inline>dt::after {content: \":\\0020\"; padding-right: .5ex}\n",
              ".dl-inline>dt:not(:first-of-type) {padding-left: .5ex}\n",
              "</style><dl class=dl-inline><dt>0%</dt><dd>4.3</dd><dt>25%</dt><dd>5.1</dd><dt>50%</dt><dd>5.8</dd><dt>75%</dt><dd>6.4</dd><dt>100%</dt><dd>7.9</dd></dl>\n"
            ],
            "text/markdown": "0%\n:   4.325%\n:   5.150%\n:   5.875%\n:   6.4100%\n:   7.9\n\n",
            "text/latex": "\\begin{description*}\n\\item[0\\textbackslash{}\\%] 4.3\n\\item[25\\textbackslash{}\\%] 5.1\n\\item[50\\textbackslash{}\\%] 5.8\n\\item[75\\textbackslash{}\\%] 6.4\n\\item[100\\textbackslash{}\\%] 7.9\n\\end{description*}\n",
            "text/plain": [
              "  0%  25%  50%  75% 100% \n",
              " 4.3  5.1  5.8  6.4  7.9 "
            ]
          },
          "metadata": {}
        }
      ]
    },
    {
      "cell_type": "code",
      "source": [
        "quantile(iris$ancho.sepalo)"
      ],
      "metadata": {
        "colab": {
          "base_uri": "https://localhost:8080/",
          "height": 34
        },
        "id": "iwAMo0QoQzD7",
        "outputId": "ba3835e5-9e92-4917-822d-77bef0f0066d"
      },
      "execution_count": null,
      "outputs": [
        {
          "output_type": "display_data",
          "data": {
            "text/html": [
              "<style>\n",
              ".dl-inline {width: auto; margin:0; padding: 0}\n",
              ".dl-inline>dt, .dl-inline>dd {float: none; width: auto; display: inline-block}\n",
              ".dl-inline>dt::after {content: \":\\0020\"; padding-right: .5ex}\n",
              ".dl-inline>dt:not(:first-of-type) {padding-left: .5ex}\n",
              "</style><dl class=dl-inline><dt>0%</dt><dd>2</dd><dt>25%</dt><dd>2.8</dd><dt>50%</dt><dd>3</dd><dt>75%</dt><dd>3.3</dd><dt>100%</dt><dd>4.4</dd></dl>\n"
            ],
            "text/markdown": "0%\n:   225%\n:   2.850%\n:   375%\n:   3.3100%\n:   4.4\n\n",
            "text/latex": "\\begin{description*}\n\\item[0\\textbackslash{}\\%] 2\n\\item[25\\textbackslash{}\\%] 2.8\n\\item[50\\textbackslash{}\\%] 3\n\\item[75\\textbackslash{}\\%] 3.3\n\\item[100\\textbackslash{}\\%] 4.4\n\\end{description*}\n",
            "text/plain": [
              "  0%  25%  50%  75% 100% \n",
              " 2.0  2.8  3.0  3.3  4.4 "
            ]
          },
          "metadata": {}
        }
      ]
    },
    {
      "cell_type": "code",
      "source": [
        "quantile(iris$largo.petalo)"
      ],
      "metadata": {
        "colab": {
          "base_uri": "https://localhost:8080/",
          "height": 34
        },
        "id": "zjXvypSTQ4OD",
        "outputId": "3c49a0a5-2d84-470d-979e-7a507a7ae1b9"
      },
      "execution_count": null,
      "outputs": [
        {
          "output_type": "display_data",
          "data": {
            "text/html": [
              "<style>\n",
              ".dl-inline {width: auto; margin:0; padding: 0}\n",
              ".dl-inline>dt, .dl-inline>dd {float: none; width: auto; display: inline-block}\n",
              ".dl-inline>dt::after {content: \":\\0020\"; padding-right: .5ex}\n",
              ".dl-inline>dt:not(:first-of-type) {padding-left: .5ex}\n",
              "</style><dl class=dl-inline><dt>0%</dt><dd>1</dd><dt>25%</dt><dd>1.6</dd><dt>50%</dt><dd>4.35</dd><dt>75%</dt><dd>5.1</dd><dt>100%</dt><dd>6.9</dd></dl>\n"
            ],
            "text/markdown": "0%\n:   125%\n:   1.650%\n:   4.3575%\n:   5.1100%\n:   6.9\n\n",
            "text/latex": "\\begin{description*}\n\\item[0\\textbackslash{}\\%] 1\n\\item[25\\textbackslash{}\\%] 1.6\n\\item[50\\textbackslash{}\\%] 4.35\n\\item[75\\textbackslash{}\\%] 5.1\n\\item[100\\textbackslash{}\\%] 6.9\n\\end{description*}\n",
            "text/plain": [
              "  0%  25%  50%  75% 100% \n",
              "1.00 1.60 4.35 5.10 6.90 "
            ]
          },
          "metadata": {}
        }
      ]
    },
    {
      "cell_type": "code",
      "source": [
        "quantile(iris$ancho.petalo)"
      ],
      "metadata": {
        "colab": {
          "base_uri": "https://localhost:8080/",
          "height": 34
        },
        "id": "M_t-_F2YQ6qz",
        "outputId": "e6fa7ece-7608-4cec-cf31-5fd8c6db5356"
      },
      "execution_count": null,
      "outputs": [
        {
          "output_type": "display_data",
          "data": {
            "text/html": [
              "<style>\n",
              ".dl-inline {width: auto; margin:0; padding: 0}\n",
              ".dl-inline>dt, .dl-inline>dd {float: none; width: auto; display: inline-block}\n",
              ".dl-inline>dt::after {content: \":\\0020\"; padding-right: .5ex}\n",
              ".dl-inline>dt:not(:first-of-type) {padding-left: .5ex}\n",
              "</style><dl class=dl-inline><dt>0%</dt><dd>0.1</dd><dt>25%</dt><dd>0.3</dd><dt>50%</dt><dd>1.3</dd><dt>75%</dt><dd>1.8</dd><dt>100%</dt><dd>2.5</dd></dl>\n"
            ],
            "text/markdown": "0%\n:   0.125%\n:   0.350%\n:   1.375%\n:   1.8100%\n:   2.5\n\n",
            "text/latex": "\\begin{description*}\n\\item[0\\textbackslash{}\\%] 0.1\n\\item[25\\textbackslash{}\\%] 0.3\n\\item[50\\textbackslash{}\\%] 1.3\n\\item[75\\textbackslash{}\\%] 1.8\n\\item[100\\textbackslash{}\\%] 2.5\n\\end{description*}\n",
            "text/plain": [
              "  0%  25%  50%  75% 100% \n",
              " 0.1  0.3  1.3  1.8  2.5 "
            ]
          },
          "metadata": {}
        }
      ]
    },
    {
      "cell_type": "markdown",
      "source": [
        "### Para obtener un resumen de los datos, se debe utilizar SUMMARY\n",
        "Para las variables numéricas (quantitativas), entrega los datos ya procesados. Para aquellas variables que no son cuantitables nos muestra la clase y el tipo"
      ],
      "metadata": {
        "id": "BjnJ9ZX0RIVR"
      }
    },
    {
      "cell_type": "code",
      "source": [
        "summary(iris)"
      ],
      "metadata": {
        "colab": {
          "base_uri": "https://localhost:8080/",
          "height": 260
        },
        "id": "zngBRWeIRkK_",
        "outputId": "746408d7-0e80-48cf-cc99-09b97141219b"
      },
      "execution_count": null,
      "outputs": [
        {
          "output_type": "display_data",
          "data": {
            "text/plain": [
              "  largo.sepalo    ancho.sepalo    largo.petalo    ancho.petalo  \n",
              " Min.   :4.300   Min.   :2.000   Min.   :1.000   Min.   :0.100  \n",
              " 1st Qu.:5.100   1st Qu.:2.800   1st Qu.:1.600   1st Qu.:0.300  \n",
              " Median :5.800   Median :3.000   Median :4.350   Median :1.300  \n",
              " Mean   :5.843   Mean   :3.057   Mean   :3.758   Mean   :1.199  \n",
              " 3rd Qu.:6.400   3rd Qu.:3.300   3rd Qu.:5.100   3rd Qu.:1.800  \n",
              " Max.   :7.900   Max.   :4.400   Max.   :6.900   Max.   :2.500  \n",
              "   especie         \n",
              " Length:150        \n",
              " Class :character  \n",
              " Mode  :character  \n",
              "                   \n",
              "                   \n",
              "                   "
            ]
          },
          "metadata": {}
        }
      ]
    },
    {
      "cell_type": "markdown",
      "source": [
        "## Visualización de datos"
      ],
      "metadata": {
        "id": "DzWUTz6gRppt"
      }
    },
    {
      "cell_type": "markdown",
      "source": [
        "### Histograma"
      ],
      "metadata": {
        "id": "ZsSvQ2eQIeu-"
      }
    },
    {
      "cell_type": "code",
      "source": [
        "hist(iris$largo.sepalo)"
      ],
      "metadata": {
        "colab": {
          "base_uri": "https://localhost:8080/",
          "height": 437
        },
        "id": "USPYtGJyRs_g",
        "outputId": "81b21ed3-fbc8-4f0b-9a62-0d49ca3c1e00"
      },
      "execution_count": null,
      "outputs": [
        {
          "output_type": "display_data",
          "data": {
            "text/plain": [
              "Plot with title “Histogram of iris$largo.sepalo”"
            ],
            "image/png": "[encoded data removed]"
          },
          "metadata": {
            "image/png": {
              "width": 420,
              "height": 420
            }
          }
        }
      ]
    },
    {
      "cell_type": "markdown",
      "source": [
        "Se observa que parece una normal con sesgo positivo, es decir, está cargado hacia la izquierda"
      ],
      "metadata": {
        "id": "D0Efry8SSWyZ"
      }
    },
    {
      "cell_type": "markdown",
      "source": [
        "### Mejorando la visualización para mostrar 4 histogramas a la vez"
      ],
      "metadata": {
        "id": "g1hS0FkTShAN"
      }
    },
    {
      "cell_type": "code",
      "source": [
        "par(mfrow = c(2,2))\n",
        "hist(iris$largo.sepalo)\n",
        "hist(iris$ancho.sepalo)\n",
        "hist(iris$largo.petalo)\n",
        "hist(iris$ancho.petalo)"
      ],
      "metadata": {
        "colab": {
          "base_uri": "https://localhost:8080/",
          "height": 437
        },
        "id": "OoT7u-atTArG",
        "outputId": "294992a4-c03a-4bc2-d041-065471fa8087"
      },
      "execution_count": null,
      "outputs": [
        {
          "output_type": "display_data",
          "data": {
            "text/plain": [
              "Plot with title “Histogram of iris$ancho.petalo”"
            ],
            "image/png": "[encoded data removed]"
          },
          "metadata": {
            "image/png": {
              "width": 420,
              "height": 420
            }
          }
        }
      ]
    },
    {
      "cell_type": "markdown",
      "source": [
        "### Boxplots"
      ],
      "metadata": {
        "id": "_ZFnkJL2VfNP"
      }
    },
    {
      "cell_type": "code",
      "source": [
        "par(mfrow = c(2,2))\n",
        "boxplot(iris$largo.sepalo ~ iris$especie, data = iris, main=\"largo.sepalo\")\n",
        "boxplot(iris$ancho.sepalo ~ iris$especie, data = iris, main=\"ancho.sepalo\")\n",
        "boxplot(iris$largo.petalo ~ iris$especie, data = iris, main=\"largo.petalo\")\n",
        "boxplot(iris$ancho.petalo ~ iris$especie, data = iris, main=\"ancho.petalo\")"
      ],
      "metadata": {
        "colab": {
          "base_uri": "https://localhost:8080/",
          "height": 437
        },
        "id": "Eoz9YvOlVh18",
        "outputId": "86d109e0-491d-40f7-e1c8-b6fd0475bd3a"
      },
      "execution_count": null,
      "outputs": [
        {
          "output_type": "display_data",
          "data": {
            "text/plain": [
              "Plot with title “ancho.petalo”"
            ],
            "image/png": "[encoded data removed]"
          },
          "metadata": {
            "image/png": {
              "width": 420,
              "height": 420
            }
          }
        }
      ]
    }
  ]
}