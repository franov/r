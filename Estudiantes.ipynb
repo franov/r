{
  "nbformat": 4,
  "nbformat_minor": 0,
  "metadata": {
    "colab": {
      "name": "Estudiantes.ipynb",
      "provenance": [],
      "authorship_tag": "ABX9TyP+GsD+dGMWdxTFtZdcU+iN",
      "include_colab_link": true
    },
    "kernelspec": {
      "name": "ir",
      "display_name": "R"
    },
    "language_info": {
      "name": "R"
    }
  },
  "cells": [
    {
      "cell_type": "markdown",
      "metadata": {
        "id": "view-in-github",
        "colab_type": "text"
      },
      "source": [
        "<a href=\"https://colab.research.google.com/github/franov/r/blob/main/Estudiantes.ipynb\" target=\"_parent\"><img src=\"https://colab.research.google.com/assets/colab-badge.svg\" alt=\"Open In Colab\"/></a>"
      ]
    },
    {
      "cell_type": "markdown",
      "source": [
        "# Utilizando R desde GitHub -  Parte II\n",
        "Leyendo el archivo de datos **puntajes_estudiantes.csv** desde GitHub para utilizarlo dentro de Colab con R.\n",
        "\n",
        "La base de datos contiene información demográfica de estudiantes chilenos y el puntaje obtenido en matemática y lenguaje (escritura y lectura).\n",
        "\n",
        "La estructura de la fuente de información es la siguiente:\n",
        "* **comuna**: Comuna de residencia del estudiante.\n",
        "* **educacional_parental**: Nivel educacional de los padres del estudiante.\n",
        "* **almuerzo**: Forma que el estudiante recibe su almuerzo.\n",
        "* **taller_apoyo**: Varible dicotómica para indicar si el estudiante ha recibido o no un taller de apoyo en las materias señaladas.\n",
        "* **matematicas**: Variable numérica que indica la nota obtenida en matemáticas.\n",
        "* **lectura**: Variable numérica que indica la nota obtenida en lectura.\n",
        "* **escritura**: Variable numérica que indica la nota obtenida en escritura.\n",
        "* **sexo**: Sexo del estudiante"
      ],
      "metadata": {
        "id": "5bR6iKBWUbdA"
      }
    },
    {
      "cell_type": "markdown",
      "source": [
        "\n",
        "## Montando librerías para leer archivos desde Github\n",
        "\n",
        "Se cargan las librerías necesarias para realizar la lectura de archivos desde R\n"
      ],
      "metadata": {
        "id": "MfcgyiE-UuWx"
      }
    },
    {
      "cell_type": "code",
      "execution_count": 3,
      "metadata": {
        "id": "ACWrWYk8UNIY"
      },
      "outputs": [],
      "source": [
        "library(readr)  # for read_csv\n",
        "library(knitr)  # for kable"
      ]
    },
    {
      "cell_type": "markdown",
      "source": [
        "Se carga el archivo en la variable estudiantes desde GitHub"
      ],
      "metadata": {
        "id": "d1rL13MNU4SB"
      }
    },
    {
      "cell_type": "code",
      "source": [
        "file <- \"https://raw.githubusercontent.com/franov/r/main/puntajes_estudiantes.csv\"\n",
        "puntaje <- read.table(file, sep=\";\", header=TRUE)"
      ],
      "metadata": {
        "id": "PBivc9gBU7cK"
      },
      "execution_count": 4,
      "outputs": []
    },
    {
      "cell_type": "markdown",
      "source": [
        "## Comienzo del análisis de datos"
      ],
      "metadata": {
        "id": "60yxj8JlZ1Qq"
      }
    },
    {
      "cell_type": "markdown",
      "source": [
        "### Lectura del encabezado del archivo"
      ],
      "metadata": {
        "id": "94Ztlb0IZ32w"
      }
    },
    {
      "cell_type": "code",
      "source": [
        "head(puntaje)"
      ],
      "metadata": {
        "colab": {
          "base_uri": "https://localhost:8080/",
          "height": 286
        },
        "id": "9BrzMpHkaNj2",
        "outputId": "0a214d5f-4790-4af9-b7bb-220283eec6e7"
      },
      "execution_count": 5,
      "outputs": [
        {
          "output_type": "display_data",
          "data": {
            "text/html": [
              "<table class=\"dataframe\">\n",
              "<caption>A data.frame: 6 × 8</caption>\n",
              "<thead>\n",
              "\t<tr><th></th><th scope=col>comuna</th><th scope=col>educacional_parental</th><th scope=col>almuerzo</th><th scope=col>taller_apoyo</th><th scope=col>matematicas</th><th scope=col>lectura</th><th scope=col>escritura</th><th scope=col>sexo</th></tr>\n",
              "\t<tr><th></th><th scope=col>&lt;chr&gt;</th><th scope=col>&lt;chr&gt;</th><th scope=col>&lt;chr&gt;</th><th scope=col>&lt;chr&gt;</th><th scope=col>&lt;dbl&gt;</th><th scope=col>&lt;dbl&gt;</th><th scope=col>&lt;dbl&gt;</th><th scope=col>&lt;chr&gt;</th></tr>\n",
              "</thead>\n",
              "<tbody>\n",
              "\t<tr><th scope=row>1</th><td> Pudahuel</td><td>profesional</td><td>estandar</td><td>no</td><td>0.72</td><td>0.72</td><td>0.74</td><td>M</td></tr>\n",
              "\t<tr><th scope=row>2</th><td> Santiago</td><td>tecnica    </td><td>estandar</td><td>si</td><td>0.69</td><td>0.90</td><td>0.88</td><td>M</td></tr>\n",
              "\t<tr><th scope=row>3</th><td> Pudahuel</td><td>postgrado  </td><td>estandar</td><td>no</td><td>0.90</td><td>0.95</td><td>0.93</td><td>M</td></tr>\n",
              "\t<tr><th scope=row>4</th><td> Lo_Prado</td><td>tecnica    </td><td>beca    </td><td>no</td><td>0.47</td><td>0.57</td><td>0.44</td><td>H</td></tr>\n",
              "\t<tr><th scope=row>5</th><td> Santiago</td><td>tecnica    </td><td>estandar</td><td>no</td><td>0.76</td><td>0.78</td><td>0.75</td><td>H</td></tr>\n",
              "\t<tr><th scope=row>6</th><td> Pudahuel</td><td>tecnica    </td><td>estandar</td><td>no</td><td>0.71</td><td>0.83</td><td>0.78</td><td>M</td></tr>\n",
              "</tbody>\n",
              "</table>\n"
            ],
            "text/markdown": "\nA data.frame: 6 × 8\n\n| <!--/--> | comuna &lt;chr&gt; | educacional_parental &lt;chr&gt; | almuerzo &lt;chr&gt; | taller_apoyo &lt;chr&gt; | matematicas &lt;dbl&gt; | lectura &lt;dbl&gt; | escritura &lt;dbl&gt; | sexo &lt;chr&gt; |\n|---|---|---|---|---|---|---|---|---|\n| 1 |  Pudahuel | profesional | estandar | no | 0.72 | 0.72 | 0.74 | M |\n| 2 |  Santiago | tecnica     | estandar | si | 0.69 | 0.90 | 0.88 | M |\n| 3 |  Pudahuel | postgrado   | estandar | no | 0.90 | 0.95 | 0.93 | M |\n| 4 |  Lo_Prado | tecnica     | beca     | no | 0.47 | 0.57 | 0.44 | H |\n| 5 |  Santiago | tecnica     | estandar | no | 0.76 | 0.78 | 0.75 | H |\n| 6 |  Pudahuel | tecnica     | estandar | no | 0.71 | 0.83 | 0.78 | M |\n\n",
            "text/latex": "A data.frame: 6 × 8\n\\begin{tabular}{r|llllllll}\n  & comuna & educacional\\_parental & almuerzo & taller\\_apoyo & matematicas & lectura & escritura & sexo\\\\\n  & <chr> & <chr> & <chr> & <chr> & <dbl> & <dbl> & <dbl> & <chr>\\\\\n\\hline\n\t1 &  Pudahuel & profesional & estandar & no & 0.72 & 0.72 & 0.74 & M\\\\\n\t2 &  Santiago & tecnica     & estandar & si & 0.69 & 0.90 & 0.88 & M\\\\\n\t3 &  Pudahuel & postgrado   & estandar & no & 0.90 & 0.95 & 0.93 & M\\\\\n\t4 &  Lo\\_Prado & tecnica     & beca     & no & 0.47 & 0.57 & 0.44 & H\\\\\n\t5 &  Santiago & tecnica     & estandar & no & 0.76 & 0.78 & 0.75 & H\\\\\n\t6 &  Pudahuel & tecnica     & estandar & no & 0.71 & 0.83 & 0.78 & M\\\\\n\\end{tabular}\n",
            "text/plain": [
              "  comuna    educacional_parental almuerzo taller_apoyo matematicas lectura\n",
              "1  Pudahuel profesional          estandar no           0.72        0.72   \n",
              "2  Santiago tecnica              estandar si           0.69        0.90   \n",
              "3  Pudahuel postgrado            estandar no           0.90        0.95   \n",
              "4  Lo_Prado tecnica              beca     no           0.47        0.57   \n",
              "5  Santiago tecnica              estandar no           0.76        0.78   \n",
              "6  Pudahuel tecnica              estandar no           0.71        0.83   \n",
              "  escritura sexo\n",
              "1 0.74      M   \n",
              "2 0.88      M   \n",
              "3 0.93      M   \n",
              "4 0.44      H   \n",
              "5 0.75      H   \n",
              "6 0.78      M   "
            ]
          },
          "metadata": {}
        }
      ]
    },
    {
      "cell_type": "markdown",
      "source": [
        "### Conociendo la estructura de la base de datos"
      ],
      "metadata": {
        "id": "XrTqwP4caW4c"
      }
    },
    {
      "cell_type": "code",
      "source": [
        "str(puntaje)"
      ],
      "metadata": {
        "colab": {
          "base_uri": "https://localhost:8080/"
        },
        "id": "WAlmki9laWby",
        "outputId": "1c6ed3f0-d95d-4b89-c237-7bf91e2a4916"
      },
      "execution_count": 6,
      "outputs": [
        {
          "output_type": "stream",
          "name": "stdout",
          "text": [
            "'data.frame':\t1000 obs. of  8 variables:\n",
            " $ comuna              : chr  \" Pudahuel\" \" Santiago\" \" Pudahuel\" \" Lo_Prado\" ...\n",
            " $ educacional_parental: chr  \"profesional\" \"tecnica\" \"postgrado\" \"tecnica\" ...\n",
            " $ almuerzo            : chr  \"estandar\" \"estandar\" \"estandar\" \"beca\" ...\n",
            " $ taller_apoyo        : chr  \"no\" \"si\" \"no\" \"no\" ...\n",
            " $ matematicas         : num  0.72 0.69 0.9 0.47 0.76 0.71 0.88 0.4 0.64 0.38 ...\n",
            " $ lectura             : num  0.72 0.9 0.95 0.57 0.78 0.83 0.95 0.43 0.64 0.6 ...\n",
            " $ escritura           : num  0.74 0.88 0.93 0.44 0.75 0.78 0.92 0.39 0.67 0.5 ...\n",
            " $ sexo                : chr  \"M\" \"M\" \"M\" \"H\" ...\n"
          ]
        }
      ]
    },
    {
      "cell_type": "markdown",
      "source": [
        "### Generando un resumen de los datos\n",
        "\n"
      ],
      "metadata": {
        "id": "OiVjZIpJa0rM"
      }
    },
    {
      "cell_type": "code",
      "source": [
        "summary(puntaje)"
      ],
      "metadata": {
        "colab": {
          "base_uri": "https://localhost:8080/",
          "height": 260
        },
        "id": "O5F-ZEoUJ7gM",
        "outputId": "47abe2f5-eb8b-4dfb-dd8c-c759ae18c204"
      },
      "execution_count": 7,
      "outputs": [
        {
          "output_type": "display_data",
          "data": {
            "text/plain": [
              "    comuna          educacional_parental   almuerzo         taller_apoyo      \n",
              " Length:1000        Length:1000          Length:1000        Length:1000       \n",
              " Class :character   Class :character     Class :character   Class :character  \n",
              " Mode  :character   Mode  :character     Mode  :character   Mode  :character  \n",
              "                                                                              \n",
              "                                                                              \n",
              "                                                                              \n",
              "  matematicas        lectura         escritura          sexo          \n",
              " Min.   :0.0000   Min.   :0.1700   Min.   :0.1000   Length:1000       \n",
              " 1st Qu.:0.5700   1st Qu.:0.5900   1st Qu.:0.5775   Class :character  \n",
              " Median :0.6600   Median :0.7000   Median :0.6900   Mode  :character  \n",
              " Mean   :0.6609   Mean   :0.6917   Mean   :0.6805                     \n",
              " 3rd Qu.:0.7700   3rd Qu.:0.7900   3rd Qu.:0.7900                     \n",
              " Max.   :1.0000   Max.   :1.0000   Max.   :1.0000                     "
            ]
          },
          "metadata": {}
        }
      ]
    },
    {
      "cell_type": "markdown",
      "source": [
        "### Grupos de histogramas"
      ],
      "metadata": {
        "id": "-2N8fxTPrQEY"
      }
    },
    {
      "cell_type": "code",
      "source": [
        "par(mfrow = c(3, 1))\n",
        "hist(puntaje$matematicas)\n",
        "hist(puntaje$escritura)\n",
        "hist(puntaje$lectura)"
      ],
      "metadata": {
        "colab": {
          "base_uri": "https://localhost:8080/",
          "height": 437
        },
        "id": "uLd99MPWrSgz",
        "outputId": "21c434fb-fdd2-4771-f58d-743eda240832"
      },
      "execution_count": 20,
      "outputs": [
        {
          "output_type": "display_data",
          "data": {
            "text/plain": [
              "Plot with title “Histogram of puntaje$lectura”"
            ],
            "image/png": "[encoded data removed]"
          },
          "metadata": {
            "image/png": {
              "width": 420,
              "height": 420
            }
          }
        }
      ]
    },
    {
      "cell_type": "markdown",
      "source": [
        "Los datos de los puntajes evidencian que poseen un sesgo negativo (hacia la derecha), lo que hace que tenga impacto sobre las medidas de tendencia central. "
      ],
      "metadata": {
        "id": "MGaZGcUcr4Rm"
      }
    },
    {
      "cell_type": "markdown",
      "source": [
        "### Probando la normalidad en los datos"
      ],
      "metadata": {
        "id": "-D1SrZHGaom9"
      }
    },
    {
      "cell_type": "markdown",
      "source": [
        "Normalidad con Test Shapiro-Wilk en puntaje de matemáticas"
      ],
      "metadata": {
        "id": "78_F6B6mZCLp"
      }
    },
    {
      "cell_type": "code",
      "source": [
        "shapiro.test(puntaje$matematicas)"
      ],
      "metadata": {
        "colab": {
          "base_uri": "https://localhost:8080/",
          "height": 104
        },
        "id": "Rqe2ehFpaunN",
        "outputId": "38611239-2d07-47df-c3e4-32471a4ce301"
      },
      "execution_count": 12,
      "outputs": [
        {
          "output_type": "display_data",
          "data": {
            "text/plain": [
              "\n",
              "\tShapiro-Wilk normality test\n",
              "\n",
              "data:  puntaje$matematicas\n",
              "W = 0.99315, p-value = 0.0001455\n"
            ]
          },
          "metadata": {}
        }
      ]
    },
    {
      "cell_type": "markdown",
      "source": [
        "Normalidad con Test Shapiro-Wilk en puntaje de lectura"
      ],
      "metadata": {
        "id": "J24agBXGZHpa"
      }
    },
    {
      "cell_type": "code",
      "source": [
        "shapiro.test(puntaje$lectura)"
      ],
      "metadata": {
        "colab": {
          "base_uri": "https://localhost:8080/",
          "height": 104
        },
        "id": "H9VpSSfmZKC9",
        "outputId": "7bee18ca-0db7-430f-d603-866dffd63dd7"
      },
      "execution_count": 13,
      "outputs": [
        {
          "output_type": "display_data",
          "data": {
            "text/plain": [
              "\n",
              "\tShapiro-Wilk normality test\n",
              "\n",
              "data:  puntaje$lectura\n",
              "W = 0.99292, p-value = 0.0001055\n"
            ]
          },
          "metadata": {}
        }
      ]
    },
    {
      "cell_type": "markdown",
      "source": [
        "Normalidad con Test Shapiro-Wilk en puntaje de escritura"
      ],
      "metadata": {
        "id": "dDX99JIiZJBF"
      }
    },
    {
      "cell_type": "code",
      "source": [
        "shapiro.test(puntaje$escritura)"
      ],
      "metadata": {
        "colab": {
          "base_uri": "https://localhost:8080/",
          "height": 104
        },
        "id": "IACW5RCiZMbB",
        "outputId": "e61cd02d-d0fe-4a7d-ec76-b133136b0c29"
      },
      "execution_count": 14,
      "outputs": [
        {
          "output_type": "display_data",
          "data": {
            "text/plain": [
              "\n",
              "\tShapiro-Wilk normality test\n",
              "\n",
              "data:  puntaje$escritura\n",
              "W = 0.99196, p-value = 2.922e-05\n"
            ]
          },
          "metadata": {}
        }
      ]
    },
    {
      "cell_type": "markdown",
      "source": [
        "Dado que el test Shapiro-Wilk indicata que el valor P de la prueba de normalidad es inferior a 0.05 en todas las variables (matemáticas, escritura y lectura) entonces, como vimos en los histogramas, las variables no se encuentran distribuidas de manera normal y debemos utilizar una prueba no paramétrica como Kruswall-Wallis"
      ],
      "metadata": {
        "id": "FQMRD80bXpuc"
      }
    },
    {
      "cell_type": "code",
      "source": [
        "kruskal.test(puntaje$matematicas ~ puntaje$educacional_parental, data=puntaje)"
      ],
      "metadata": {
        "colab": {
          "base_uri": "https://localhost:8080/",
          "height": 104
        },
        "id": "WYU8weVgTjwd",
        "outputId": "da69895e-7f6b-4a69-b371-cc8d47277b95"
      },
      "execution_count": 15,
      "outputs": [
        {
          "output_type": "display_data",
          "data": {
            "text/plain": [
              "\n",
              "\tKruskal-Wallis rank sum test\n",
              "\n",
              "data:  puntaje$matematicas by puntaje$educacional_parental\n",
              "Kruskal-Wallis chi-squared = 26.407, df = 4, p-value = 2.62e-05\n"
            ]
          },
          "metadata": {}
        }
      ]
    }
  ]
}